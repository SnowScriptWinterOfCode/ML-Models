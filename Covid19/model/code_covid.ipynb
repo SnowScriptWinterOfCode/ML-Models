{
 "cells": [
  {
   "cell_type": "code",
   "execution_count": null,
   "metadata": {},
   "outputs": [],
   "source": [
    "# manipulation data\n",
    "import pandas as pd\n",
    "import numpy as np\n",
    "\n",
    "#visualiation data\n",
    "import matplotlib.pyplot as plt\n",
    "import seaborn as sns \n",
    "import matplotlib\n",
    "import plotly.graph_objects as go\n",
    "import plotly.express as px\n",
    "import plotly.graph_objects as go\n",
    "from plotly.offline import init_notebook_mode, iplot\n",
    "\n",
    "#default theme\n",
    "sns.set(context='notebook', style='darkgrid', palette='Spectral', font='sans-serif', font_scale=1, rc=None)\n",
    "matplotlib.rcParams['figure.figsize'] =[8,8]\n",
    "matplotlib.rcParams.update({'font.size': 15})\n",
    "matplotlib.rcParams['font.family'] = 'sans-serif'\n",
    "\n",
    "# dataprep library\n",
    "from dataprep.eda import *\n",
    "from dataprep.datasets import load_dataset\n",
    "from dataprep.eda import create_report\n",
    "from sklearn.ensemble import RandomForestRegressor\n",
    "from sklearn.model_selection import GridSearchCV, KFold\n",
    "from sklearn import ensemble\n",
    "from sklearn.preprocessing import OrdinalEncoder\n",
    "from sklearn.model_selection import train_test_split\n",
    "from sklearn.preprocessing import StandardScaler\n",
    "from sklearn.pipeline import Pipeline\n",
    "from sklearn import metrics"
   ]
  },
  {
   "cell_type": "code",
   "execution_count": null,
   "metadata": {},
   "outputs": [],
   "source": [
    "df=pd.read_csv('../input/covid19-global-forecasting-week-5/train.csv')\n",
    "test=pd.read_csv('../input/covid19-global-forecasting-week-5/test.csv')\n",
    "sub=pd.read_csv('../input/covid19-global-forecasting-week-5/submission.csv')"
   ]
  },
  {
   "cell_type": "code",
   "execution_count": null,
   "metadata": {},
   "outputs": [],
   "source": [
    "df.info()"
   ]
  },
  {
   "cell_type": "code",
   "execution_count": null,
   "metadata": {},
   "outputs": [],
   "source": [
    "df.shape"
   ]
  },
  {
   "cell_type": "code",
   "execution_count": null,
   "metadata": {},
   "outputs": [],
   "source": [
    "df.dtypes.value_counts().plot.pie(explode=[0.1,0.1,0.1],autopct='%1.1f%%',shadow=True)\n",
    "plt.title('data type');"
   ]
  },
  {
   "cell_type": "code",
   "execution_count": null,
   "metadata": {},
   "outputs": [],
   "source": [
    "df.describe()"
   ]
  },
  {
   "cell_type": "code",
   "execution_count": null,
   "metadata": {},
   "outputs": [],
   "source": [
    "missing = df.isnull().sum()\n",
    "missing_pourcent = df.isnull().sum()/df.shape[0]*100\n",
    "\n",
    "dic = {\n",
    "    'mising':missing,\n",
    "    'missing_pourcent %':missing_pourcent\n",
    "}\n",
    "frame=pd.DataFrame(dic)\n",
    "frame"
   ]
  },
  {
   "cell_type": "code",
   "execution_count": null,
   "metadata": {},
   "outputs": [],
   "source": [
    "missing = test.isnull().sum()\n",
    "missing_pourcent = test.isnull().sum()/df.shape[0]*100\n",
    "\n",
    "dic = {\n",
    "    'mising':missing,\n",
    "    'missing_pourcent %':missing_pourcent\n",
    "}\n",
    "frame=pd.DataFrame(dic)\n",
    "frame"
   ]
  },
  {
   "cell_type": "code",
   "execution_count": null,
   "metadata": {},
   "outputs": [],
   "source": [
    "sub"
   ]
  },
  {
   "cell_type": "code",
   "execution_count": null,
   "metadata": {},
   "outputs": [],
   "source": [
    "df.hist(figsize=(15,15),edgecolor='black');"
   ]
  },
  {
   "cell_type": "code",
   "execution_count": null,
   "metadata": {},
   "outputs": [],
   "source": [
    "plot(df.TargetValue)"
   ]
  },
  {
   "cell_type": "code",
   "execution_count": null,
   "metadata": {},
   "outputs": [],
   "source": [
    "fig = px.pie(df, values='TargetValue', names='Target')\n",
    "fig.update_traces(textposition='inside')\n",
    "fig.update_layout(uniformtext_minsize=12, uniformtext_mode='hide')\n",
    "fig.show()"
   ]
  },
  {
   "cell_type": "code",
   "execution_count": null,
   "metadata": {},
   "outputs": [],
   "source": [
    "fig = px.pie(df, values='TargetValue', names='Country_Region')\n",
    "fig.update_traces(textposition='inside')\n",
    "fig.update_layout(uniformtext_minsize=12, uniformtext_mode='hide')\n",
    "fig.show()"
   ]
  },
  {
   "cell_type": "code",
   "execution_count": null,
   "metadata": {},
   "outputs": [],
   "source": [
    "plot(df.County)"
   ]
  },
  {
   "cell_type": "code",
   "execution_count": null,
   "metadata": {},
   "outputs": [],
   "source": [
    "plt.figure(figsize=(30,9))\n",
    "county_plot=df.County.value_counts().head(100)\n",
    "sns.barplot(county_plot.index,county_plot)\n",
    "plt.xticks(rotation=90)\n",
    "plt.title('County count');\n"
   ]
  },
  {
   "cell_type": "code",
   "execution_count": null,
   "metadata": {},
   "outputs": [],
   "source": [
    "plot(df.Province_State)"
   ]
  },
  {
   "cell_type": "code",
   "execution_count": null,
   "metadata": {},
   "outputs": [],
   "source": [
    "plt.figure(figsize=(30,9))\n",
    "Province_State_plot=df.Province_State.value_counts().head(100)\n",
    "sns.barplot(Province_State_plot.index,Province_State_plot)\n",
    "plt.xticks(rotation=90)\n",
    "plt.title('Province State count');"
   ]
  },
  {
   "cell_type": "code",
   "execution_count": null,
   "metadata": {},
   "outputs": [],
   "source": [
    "plot(df.Country_Region)"
   ]
  },
  {
   "cell_type": "code",
   "execution_count": null,
   "metadata": {},
   "outputs": [],
   "source": [
    "plt.figure(figsize=(30,9))\n",
    "Country_Region_plot=df.Country_Region.value_counts().head(30)\n",
    "sns.barplot(Country_Region_plot.index,Country_Region_plot)\n",
    "plt.xticks(rotation=90)\n",
    "plt.title('Country Region count');"
   ]
  },
  {
   "cell_type": "code",
   "execution_count": null,
   "metadata": {},
   "outputs": [],
   "source": [
    "confirmed=df[df['Target']=='ConfirmedCases']\n",
    "fig = px.treemap(confirmed, path=['Country_Region'], values='TargetValue',width=900, height=600)\n",
    "fig.update_traces(textposition='middle center', textfont_size=15)\n",
    "fig.update_layout(\n",
    "    title={\n",
    "        'text': 'Total Share of Worldwide COVID19 Confirmed Cases',\n",
    "        'y':0.92,\n",
    "        'x':0.5,\n",
    "        'xanchor': 'center',\n",
    "        'yanchor': 'top'})\n",
    "fig.show()"
   ]
  },
  {
   "cell_type": "code",
   "execution_count": null,
   "metadata": {},
   "outputs": [],
   "source": [
    "dead=df[df['Target']=='Fatalities']\n",
    "fig = px.treemap(dead, path=['Country_Region'], values='TargetValue',width=900,height=600)\n",
    "fig.update_traces(textposition='middle center', textfont_size=15)\n",
    "fig.update_layout(\n",
    "    title={\n",
    "        'text': 'Total Share of Worldwide COVID19 Fatalities',\n",
    "        'y':0.92,\n",
    "        'x':0.5,\n",
    "        'xanchor': 'center',\n",
    "        'yanchor': 'top'})\n",
    "fig.show()"
   ]
  },
  {
   "cell_type": "code",
   "execution_count": null,
   "metadata": {},
   "outputs": [],
   "source": [
    "fig = px.treemap(df, path=['Country_Region'], values='TargetValue',\n",
    "                  color='Population', hover_data=['Country_Region'],\n",
    "                  color_continuous_scale='matter', title='Current share of Worldwide COVID19 Confirmed Cases')\n",
    "fig.show()"
   ]
  },
  {
   "cell_type": "code",
   "execution_count": null,
   "metadata": {},
   "outputs": [],
   "source": [
    "df.Population.value_counts()"
   ]
  },
  {
   "cell_type": "code",
   "execution_count": null,
   "metadata": {},
   "outputs": [],
   "source": [
    "df.columns"
   ]
  },
  {
   "cell_type": "code",
   "execution_count": null,
   "metadata": {},
   "outputs": [],
   "source": [
    "df.Target.value_counts()"
   ]
  },
  {
   "cell_type": "code",
   "execution_count": null,
   "metadata": {},
   "outputs": [],
   "source": [
    "df.Target.value_counts().plot.pie(explode=[0.1,0.1],autopct='%1.1f%%',shadow=True)"
   ]
  },
  {
   "cell_type": "code",
   "execution_count": null,
   "metadata": {},
   "outputs": [],
   "source": [
    "last_date = df.Date.max()\n",
    "df_countries = df[df['Date']==last_date]\n",
    "df_countries = df_countries.groupby('Country_Region', as_index=False)['TargetValue'].sum()\n",
    "df_countries = df_countries.nlargest(10,'TargetValue')\n",
    "df_trend = df.groupby(['Date','Country_Region'], as_index=False)['TargetValue'].sum()\n",
    "df_trend = df_trend.merge(df_countries, on='Country_Region')\n",
    "df_trend.rename(columns={'Country_Region':'Country', 'TargetValue_x':'Cases'}, inplace=True)"
   ]
  },
  {
   "cell_type": "code",
   "execution_count": null,
   "metadata": {},
   "outputs": [],
   "source": [
    "px.line(df_trend, x='Date', y='Cases', color='Country', title='COVID19 Total Cases growth for top 10 worst affected countries')"
   ]
  },
  {
   "cell_type": "code",
   "execution_count": null,
   "metadata": {},
   "outputs": [],
   "source": [
    "df = df.drop(['County','Province_State','Country_Region','Target'],axis=1)\n",
    "test = test.drop(['County','Province_State','Country_Region','Target'],axis=1)\n",
    "df"
   ]
  },
  {
   "cell_type": "code",
   "execution_count": null,
   "metadata": {},
   "outputs": [],
   "source": [
    "df.isnull().sum()"
   ]
  },
  {
   "cell_type": "code",
   "execution_count": null,
   "metadata": {},
   "outputs": [],
   "source": [
    "def create_features(df):\n",
    "    df['day'] = df['Date'].dt.day\n",
    "    df['month'] = df['Date'].dt.month\n",
    "    df['dayofweek'] = df['Date'].dt.dayofweek\n",
    "    df['dayofyear'] = df['Date'].dt.dayofyear\n",
    "    df['quarter'] = df['Date'].dt.quarter\n",
    "    df['weekofyear'] = df['Date'].dt.weekofyear\n",
    "    return df"
   ]
  },
  {
   "cell_type": "code",
   "execution_count": null,
   "metadata": {},
   "outputs": [],
   "source": [
    "def train_dev_split(df, days):\n",
    "    #Last days data as dev set\n",
    "    date = df['Date'].max() - dt.timedelta(days=days)\n",
    "    return df[df['Date'] <= date], df[df['Date'] > date]"
   ]
  },
  {
   "cell_type": "code",
   "execution_count": null,
   "metadata": {},
   "outputs": [],
   "source": [
    "test_date_min = test['Date'].min()\n",
    "test_date_max = test['Date'].max()"
   ]
  },
  {
   "cell_type": "code",
   "execution_count": null,
   "metadata": {},
   "outputs": [],
   "source": [
    "def avoid_data_leakage(df, date=test_date_min):\n",
    "    return df[df['Date']<date]"
   ]
  },
  {
   "cell_type": "code",
   "execution_count": null,
   "metadata": {},
   "outputs": [],
   "source": [
    "def to_integer(dt_time):\n",
    "    return 10000*dt_time.year + 100*dt_time.month + dt_time.day\n",
    "df['Date']=pd.to_datetime(df['Date'])\n",
    "test['Date']=pd.to_datetime(test['Date'])"
   ]
  },
  {
   "cell_type": "code",
   "execution_count": null,
   "metadata": {},
   "outputs": [],
   "source": [
    "test['Date']=test['Date'].dt.strftime(\"%Y%m%d\")\n",
    "df['Date']=df['Date'].dt.strftime(\"%Y%m%d\").astype(int)"
   ]
  },
  {
   "cell_type": "code",
   "execution_count": null,
   "metadata": {},
   "outputs": [],
   "source": [
    "\n",
    "predictors = df.drop(['TargetValue', 'Id'], axis=1)\n",
    "target = df[\"TargetValue\"]\n",
    "X_train, X_test, y_train, y_test = train_test_split(predictors, target, test_size = 0.22, random_state = 0)"
   ]
  },
  {
   "cell_type": "code",
   "execution_count": null,
   "metadata": {},
   "outputs": [],
   "source": [
    "model = RandomForestRegressor(n_jobs=-1)\n",
    "estimators = 100\n",
    "model.set_params(n_estimators=estimators)\n",
    "\n",
    "scores = []\n",
    "\n",
    "pipeline = Pipeline([('scaler2' , StandardScaler()),\n",
    "                        ('RandomForestRegressor: ', model)])\n",
    "pipeline.fit(X_train , y_train)\n",
    "prediction = pipeline.predict(X_test)\n",
    "\n",
    "pipeline.fit(X_train, y_train)\n",
    "scores.append(pipeline.score(X_test, y_test))"
   ]
  },
  {
   "cell_type": "code",
   "execution_count": null,
   "metadata": {},
   "outputs": [],
   "source": [
    "plt.figure(figsize=(8,6))\n",
    "plt.plot(y_test,y_test,color='deeppink')\n",
    "plt.scatter(y_test,prediction,color='dodgerblue')\n",
    "plt.xlabel('Actual Target Value',fontsize=15)\n",
    "plt.ylabel('Predicted Target Value',fontsize=15)\n",
    "plt.title('Random Forest Regressor (R2 Score= 0.95)',fontsize=14)\n",
    "plt.show()"
   ]
  },
  {
   "cell_type": "code",
   "execution_count": null,
   "metadata": {},
   "outputs": [],
   "source": [
    "# drop the ForecastId fro test data\n",
    "test.drop(['ForecastId'],axis=1,inplace=True)\n",
    "test.index.name = 'Id'\n",
    "test"
   ]
  },
  {
   "cell_type": "code",
   "execution_count": null,
   "metadata": {},
   "outputs": [],
   "source": [
    "y_pred2 = pipeline.predict(X_test)\n",
    "y_pred2"
   ]
  },
  {
   "cell_type": "code",
   "execution_count": null,
   "metadata": {},
   "outputs": [],
   "source": [
    "predictions = pipeline.predict(test)\n",
    "\n",
    "pred_list = [int(x) for x in predictions]\n",
    "\n",
    "output = pd.DataFrame({'Id': test.index, 'TargetValue': pred_list})\n",
    "print(output)"
   ]
  },
  {
   "cell_type": "code",
   "execution_count": null,
   "metadata": {},
   "outputs": [],
   "source": [
    "import xgboost as xgb"
   ]
  },
  {
   "cell_type": "code",
   "execution_count": null,
   "metadata": {},
   "outputs": [],
   "source": [
    "xgbr= xgb.XGBRegressor(n_estimators=800, learning_rate=0.01, gamma=0, subsample=.7,\n",
    "                       colsample_bytree=.7, max_depth=10,\n",
    "                       min_child_weight=0, \n",
    "                       objective='reg:squarederror', nthread=-1, scale_pos_weight=1,\n",
    "                       seed=27, reg_alpha=0.00006, n_jobs=-1)"
   ]
  },
  {
   "cell_type": "code",
   "execution_count": null,
   "metadata": {},
   "outputs": [],
   "source": [
    "xgbr.fit(X_train,y_train)"
   ]
  },
  {
   "cell_type": "code",
   "execution_count": null,
   "metadata": {},
   "outputs": [],
   "source": [
    "prediction_xgbr=xgbr.predict(X_test)"
   ]
  },
  {
   "cell_type": "code",
   "execution_count": null,
   "metadata": {},
   "outputs": [],
   "source": [
    "print('RMSE_XGBoost Regression=', np.sqrt(metrics.mean_squared_error(y_test,prediction_xgbr)))\n",
    "print('R2 Score_XGBoost Regression=',metrics.r2_score(y_test,prediction_xgbr))"
   ]
  },
  {
   "cell_type": "code",
   "execution_count": null,
   "metadata": {},
   "outputs": [],
   "source": [
    "plt.figure(figsize=(8,6))\n",
    "plt.scatter(x=y_test, y=prediction_xgbr, color='dodgerblue')\n",
    "plt.plot(y_test,y_test, color='deeppink')\n",
    "plt.xlabel('Actual Target Value',fontsize=15)\n",
    "plt.ylabel('Predicted Target Value',fontsize=15)\n",
    "plt.title('XGBoost Regressor (R2 Score= 0.89)',fontsize=14)\n",
    "plt.show()"
   ]
  },
  {
   "cell_type": "code",
   "execution_count": null,
   "metadata": {},
   "outputs": [],
   "source": [
    "a=output.groupby(['Id'])['TargetValue'].quantile(q=0.05).reset_index()\n",
    "b=output.groupby(['Id'])['TargetValue'].quantile(q=0.5).reset_index()\n",
    "c=output.groupby(['Id'])['TargetValue'].quantile(q=0.95).reset_index()\n",
    "a.columns=['Id','q0.05']\n",
    "b.columns=['Id','q0.5']\n",
    "c.columns=['Id','q0.95']\n",
    "a=pd.concat([a,b['q0.5'],c['q0.95']],1)\n",
    "a['q0.05']=a['q0.05'].clip(0,10000)\n",
    "a['q0.5']=a['q0.5'].clip(0,10000)\n",
    "a['q0.95']=a['q0.95'].clip(0,10000)\n",
    "a['Id'] =a['Id']+ 1\n",
    "a"
   ]
  },
  {
   "cell_type": "code",
   "execution_count": null,
   "metadata": {},
   "outputs": [],
   "source": [
    "sub=pd.melt(a, id_vars=['Id'], value_vars=['q0.05','q0.5','q0.95'])\n",
    "sub['variable']=sub['variable'].str.replace(\"q\",\"\", regex=False)\n",
    "sub['ForecastId_Quantile']=sub['Id'].astype(str)+'_'+sub['variable']\n",
    "sub['TargetValue']=sub['value']\n",
    "sub=sub[['ForecastId_Quantile','TargetValue']]\n",
    "sub.reset_index(drop=True,inplace=True)\n",
    "sub.head()"
   ]
  },
  {
   "cell_type": "code",
   "execution_count": null,
   "metadata": {},
   "outputs": [],
   "source": [
    "sub.to_csv(\"submission.csv\",index=False)"
   ]
  }
 ],
 "metadata": {
  "language_info": {
   "name": "python"
  }
 },
 "nbformat": 4,
 "nbformat_minor": 2
}
