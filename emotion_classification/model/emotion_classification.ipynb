{
  "metadata": {
    "kernelspec": {
      "language": "python",
      "display_name": "Python 3",
      "name": "python3"
    },
    "language_info": {
      "name": "python",
      "version": "3.7.12",
      "mimetype": "text/x-python",
      "codemirror_mode": {
        "name": "ipython",
        "version": 3
      },
      "pygments_lexer": "ipython3",
      "nbconvert_exporter": "python",
      "file_extension": ".py"
    },
    "kaggle": {
      "accelerator": "none",
      "dataSources": [
        {
          "sourceId": 2222182,
          "sourceType": "datasetVersion",
          "datasetId": 1334611
        }
      ],
      "dockerImageVersionId": 30407,
      "isInternetEnabled": false,
      "language": "python",
      "sourceType": "notebook",
      "isGpuEnabled": false
    },
    "colab": {
      "provenance": [],
      "include_colab_link": true
    }
  },
  "nbformat_minor": 0,
  "nbformat": 4,
  "cells": [
    {
      "cell_type": "markdown",
      "metadata": {
        "id": "view-in-github",
        "colab_type": "text"
      },
      "source": [
        "<a href=\"https://colab.research.google.com/github/namita0210/ML-Models/blob/task2/emotion_classification/model/emotion_classification.ipynb\" target=\"_parent\"><img src=\"https://colab.research.google.com/assets/colab-badge.svg\" alt=\"Open In Colab\"/></a>"
      ]
    },
    {
      "cell_type": "markdown",
      "source": [
        "# Natural Language Processing"
      ],
      "metadata": {
        "_uuid": "8f2839f25d086af736a60e9eeb907d3b93b6e0e5",
        "_cell_guid": "b1076dfc-b9ad-4769-8c92-a6c4dae69d19",
        "id": "yYnfR9RnjVsn"
      }
    },
    {
      "cell_type": "markdown",
      "source": [
        "# Libraries"
      ],
      "metadata": {
        "id": "_H63C62FjVst"
      }
    },
    {
      "cell_type": "code",
      "source": [
        "from google.colab import drive\n",
        "drive.mount('/content/drive')"
      ],
      "metadata": {
        "colab": {
          "base_uri": "https://localhost:8080/"
        },
        "id": "JldYXXaimdhF",
        "outputId": "3d858441-f8e1-419e-96af-01dcc5bf8d08"
      },
      "execution_count": 1,
      "outputs": [
        {
          "output_type": "stream",
          "name": "stdout",
          "text": [
            "Mounted at /content/drive\n"
          ]
        }
      ]
    },
    {
      "cell_type": "code",
      "source": [
        "import pandas as pd\n",
        "import numpy as np\n",
        "import seaborn as sns\n",
        "import matplotlib.pyplot as plt\n",
        "import numpy as np\n",
        "import nltk\n",
        "import re\n",
        "import random\n",
        "from sklearn.feature_extraction.text import CountVectorizer\n",
        "from sklearn.model_selection import train_test_split\n",
        "from sklearn.naive_bayes import MultinomialNB\n",
        "from sklearn.metrics import accuracy_score,confusion_matrix"
      ],
      "metadata": {
        "execution": {
          "iopub.status.busy": "2024-01-04T03:33:43.747154Z",
          "iopub.execute_input": "2024-01-04T03:33:43.747805Z",
          "iopub.status.idle": "2024-01-04T03:33:43.757722Z",
          "shell.execute_reply.started": "2024-01-04T03:33:43.747742Z",
          "shell.execute_reply": "2024-01-04T03:33:43.756401Z"
        },
        "trusted": true,
        "id": "D7hXLAwHjVsv"
      },
      "execution_count": 3,
      "outputs": []
    },
    {
      "cell_type": "markdown",
      "source": [
        "# NLTK Libraries Download"
      ],
      "metadata": {
        "id": "T5DSH9ezjVsx"
      }
    },
    {
      "cell_type": "code",
      "source": [
        "nltk.download(\"stopwords\")\n",
        "stop_words_english = nltk.corpus.stopwords.words(\"english\")"
      ],
      "metadata": {
        "execution": {
          "iopub.status.busy": "2024-01-04T03:33:43.773579Z",
          "iopub.execute_input": "2024-01-04T03:33:43.774310Z",
          "iopub.status.idle": "2024-01-04T03:34:03.818680Z",
          "shell.execute_reply.started": "2024-01-04T03:33:43.774265Z",
          "shell.execute_reply": "2024-01-04T03:34:03.817025Z"
        },
        "trusted": true,
        "id": "JdHFFIcejVsx",
        "outputId": "09404d87-c2ce-4a67-a1c1-fcf7b45e73ca",
        "colab": {
          "base_uri": "https://localhost:8080/"
        }
      },
      "execution_count": 4,
      "outputs": [
        {
          "output_type": "stream",
          "name": "stderr",
          "text": [
            "[nltk_data] Downloading package stopwords to /root/nltk_data...\n",
            "[nltk_data]   Unzipping corpora/stopwords.zip.\n"
          ]
        }
      ]
    },
    {
      "cell_type": "code",
      "source": [
        "print(f\"TOTAL LENGHT OF STOP WORDS IN ENGLISH: {len(stop_words_english)}\")"
      ],
      "metadata": {
        "execution": {
          "iopub.status.busy": "2024-01-04T03:34:03.821901Z",
          "iopub.execute_input": "2024-01-04T03:34:03.822446Z",
          "iopub.status.idle": "2024-01-04T03:34:03.832194Z",
          "shell.execute_reply.started": "2024-01-04T03:34:03.822394Z",
          "shell.execute_reply": "2024-01-04T03:34:03.830281Z"
        },
        "trusted": true,
        "id": "Qoq5lMpMjVsz",
        "outputId": "eaa300f4-c3cf-4783-fb8e-14e617ad38b0",
        "colab": {
          "base_uri": "https://localhost:8080/"
        }
      },
      "execution_count": 5,
      "outputs": [
        {
          "output_type": "stream",
          "name": "stdout",
          "text": [
            "TOTAL LENGHT OF STOP WORDS IN ENGLISH: 179\n"
          ]
        }
      ]
    },
    {
      "cell_type": "markdown",
      "source": [
        "# Path & Process"
      ],
      "metadata": {
        "id": "RCUCiGk3jVs0"
      }
    },
    {
      "cell_type": "code",
      "source": [
        "train_path = \"/content/drive/MyDrive/emotion_classification_dataset/emotion-labels-train.csv\"\n",
        "validation_path = \"/content/drive/MyDrive/emotion_classification_dataset/emotion-labels-val.csv\"\n",
        "test_path = \"/content/drive/MyDrive/emotion_classification_dataset/emotion-labels-test.csv\""
      ],
      "metadata": {
        "execution": {
          "iopub.status.busy": "2024-01-04T03:34:03.837771Z",
          "iopub.execute_input": "2024-01-04T03:34:03.838351Z",
          "iopub.status.idle": "2024-01-04T03:34:03.846496Z",
          "shell.execute_reply.started": "2024-01-04T03:34:03.838283Z",
          "shell.execute_reply": "2024-01-04T03:34:03.845056Z"
        },
        "trusted": true,
        "id": "wAxVAri3jVs0"
      },
      "execution_count": 6,
      "outputs": []
    },
    {
      "cell_type": "markdown",
      "source": [
        "#### READING"
      ],
      "metadata": {
        "id": "ewD84PiqjVs1"
      }
    },
    {
      "cell_type": "code",
      "source": [
        "train_pd = pd.read_csv(train_path)\n",
        "validation_pd = pd.read_csv(validation_path)\n",
        "test_pd = pd.read_csv(test_path)"
      ],
      "metadata": {
        "execution": {
          "iopub.status.busy": "2024-01-04T03:34:03.851196Z",
          "iopub.execute_input": "2024-01-04T03:34:03.852404Z",
          "iopub.status.idle": "2024-01-04T03:34:03.897155Z",
          "shell.execute_reply.started": "2024-01-04T03:34:03.852343Z",
          "shell.execute_reply": "2024-01-04T03:34:03.895578Z"
        },
        "trusted": true,
        "id": "XrWEr5DajVs2"
      },
      "execution_count": 7,
      "outputs": []
    },
    {
      "cell_type": "code",
      "source": [
        "all_data_list = [train_pd,validation_pd,test_pd]"
      ],
      "metadata": {
        "execution": {
          "iopub.status.busy": "2024-01-04T03:34:03.899954Z",
          "iopub.execute_input": "2024-01-04T03:34:03.901016Z",
          "iopub.status.idle": "2024-01-04T03:34:03.910295Z",
          "shell.execute_reply.started": "2024-01-04T03:34:03.900955Z",
          "shell.execute_reply": "2024-01-04T03:34:03.908764Z"
        },
        "trusted": true,
        "id": "3agfsTZljVs3"
      },
      "execution_count": 8,
      "outputs": []
    },
    {
      "cell_type": "markdown",
      "source": [
        "#### CONTROL"
      ],
      "metadata": {
        "id": "iKIhNGV1jVs3"
      }
    },
    {
      "cell_type": "code",
      "source": [
        "for x_data,x_name in zip(all_data_list,[\"TRAIN\",\"VALIDATION\",\"TEST\"]):\n",
        "    print(f\"DATA NAME: {x_name}\\n\\nDATA:\\n{x_data.head()}\\n\\n\\n\")"
      ],
      "metadata": {
        "execution": {
          "iopub.status.busy": "2024-01-04T03:34:03.912643Z",
          "iopub.execute_input": "2024-01-04T03:34:03.913672Z",
          "iopub.status.idle": "2024-01-04T03:34:03.931540Z",
          "shell.execute_reply.started": "2024-01-04T03:34:03.913616Z",
          "shell.execute_reply": "2024-01-04T03:34:03.929894Z"
        },
        "trusted": true,
        "id": "KeY73c8HjVs3",
        "outputId": "2a65eaee-d456-4737-882c-00eff5918159",
        "colab": {
          "base_uri": "https://localhost:8080/"
        }
      },
      "execution_count": 9,
      "outputs": [
        {
          "output_type": "stream",
          "name": "stdout",
          "text": [
            "DATA NAME: TRAIN\n",
            "\n",
            "DATA:\n",
            "                                                text label\n",
            "0  Just got back from seeing @GaryDelaney in Burs...   joy\n",
            "1  Oh dear an evening of absolute hilarity I don'...   joy\n",
            "2  Been waiting all week for this game ❤️❤️❤️ #ch...   joy\n",
            "3  @gardiner_love : Thank you so much, Gloria! Yo...   joy\n",
            "4  I feel so blessed to work with the family that...   joy\n",
            "\n",
            "\n",
            "\n",
            "DATA NAME: VALIDATION\n",
            "\n",
            "DATA:\n",
            "                                                text label\n",
            "0  @theclobra lol I thought maybe, couldn't decid...   joy\n",
            "1  Nawaz Sharif is getting more funnier than @kap...   joy\n",
            "2  Nawaz Sharif is getting more funnier than @kap...   joy\n",
            "3  @tomderivan73 😁...I'll just people watch and e...   joy\n",
            "4  I love my family so much #lucky #grateful #sma...   joy\n",
            "\n",
            "\n",
            "\n",
            "DATA NAME: TEST\n",
            "\n",
            "DATA:\n",
            "                                                text label\n",
            "0  You must be knowing #blithe means (adj.)  Happ...   joy\n",
            "1  Old saying 'A #smile shared is one gained for ...   joy\n",
            "2  Bridget Jones' Baby was bloody hilarious 😅 #Br...   joy\n",
            "3  @Elaminova sparkling water makes your life spa...   joy\n",
            "4  I'm tired of everybody telling me to chill out...   joy\n",
            "\n",
            "\n",
            "\n"
          ]
        }
      ]
    },
    {
      "cell_type": "code",
      "source": [
        "for x_data,x_name in zip(all_data_list,[\"TRAIN\",\"VALIDATION\",\"TEST\"]):\n",
        "    print(f\"NULL CONTROL FOR {x_name}:\\n{x_data.isnull().sum()}\\n\\n\")"
      ],
      "metadata": {
        "execution": {
          "iopub.status.busy": "2024-01-04T03:34:03.934440Z",
          "iopub.execute_input": "2024-01-04T03:34:03.935431Z",
          "iopub.status.idle": "2024-01-04T03:34:03.951983Z",
          "shell.execute_reply.started": "2024-01-04T03:34:03.935363Z",
          "shell.execute_reply": "2024-01-04T03:34:03.950570Z"
        },
        "trusted": true,
        "id": "9ISsRQPzjVs4",
        "outputId": "0e21b182-3383-4122-a58f-c214a094a4de",
        "colab": {
          "base_uri": "https://localhost:8080/"
        }
      },
      "execution_count": 10,
      "outputs": [
        {
          "output_type": "stream",
          "name": "stdout",
          "text": [
            "NULL CONTROL FOR TRAIN:\n",
            "text     0\n",
            "label    0\n",
            "dtype: int64\n",
            "\n",
            "\n",
            "NULL CONTROL FOR VALIDATION:\n",
            "text     0\n",
            "label    0\n",
            "dtype: int64\n",
            "\n",
            "\n",
            "NULL CONTROL FOR TEST:\n",
            "text     0\n",
            "label    0\n",
            "dtype: int64\n",
            "\n",
            "\n"
          ]
        }
      ]
    },
    {
      "cell_type": "code",
      "source": [
        "for x_data,x_name in zip(all_data_list,[\"TRAIN\",\"VALIDATION\",\"TEST\"]):\n",
        "    print(f\"COLUMNS FOR {x_name}:\\n{x_data.columns}\\n\\n\")"
      ],
      "metadata": {
        "execution": {
          "iopub.status.busy": "2024-01-04T03:34:03.954344Z",
          "iopub.execute_input": "2024-01-04T03:34:03.955773Z",
          "iopub.status.idle": "2024-01-04T03:34:03.966256Z",
          "shell.execute_reply.started": "2024-01-04T03:34:03.955710Z",
          "shell.execute_reply": "2024-01-04T03:34:03.964139Z"
        },
        "trusted": true,
        "id": "2RTjT1TEjVs4",
        "outputId": "acba6823-6942-4d5e-8e09-a84a8c48bb99",
        "colab": {
          "base_uri": "https://localhost:8080/"
        }
      },
      "execution_count": 11,
      "outputs": [
        {
          "output_type": "stream",
          "name": "stdout",
          "text": [
            "COLUMNS FOR TRAIN:\n",
            "Index(['text', 'label'], dtype='object')\n",
            "\n",
            "\n",
            "COLUMNS FOR VALIDATION:\n",
            "Index(['text', 'label'], dtype='object')\n",
            "\n",
            "\n",
            "COLUMNS FOR TEST:\n",
            "Index(['text', 'label'], dtype='object')\n",
            "\n",
            "\n"
          ]
        }
      ]
    },
    {
      "cell_type": "code",
      "source": [
        "for x_data,x_name in zip(all_data_list,[\"TRAIN\",\"VALIDATION\",\"TEST\"]):\n",
        "    print(f\"VALUE COUNTS FOR {x_name}:\\n{x_data['label'].value_counts()}\\n\\n\")"
      ],
      "metadata": {
        "execution": {
          "iopub.status.busy": "2024-01-04T03:34:03.968488Z",
          "iopub.execute_input": "2024-01-04T03:34:03.969915Z",
          "iopub.status.idle": "2024-01-04T03:34:03.990783Z",
          "shell.execute_reply.started": "2024-01-04T03:34:03.969843Z",
          "shell.execute_reply": "2024-01-04T03:34:03.989141Z"
        },
        "trusted": true,
        "id": "PrBCFtQXjVs5",
        "outputId": "1dbd61aa-9c27-4639-d0a5-3176ad332b69",
        "colab": {
          "base_uri": "https://localhost:8080/"
        }
      },
      "execution_count": 12,
      "outputs": [
        {
          "output_type": "stream",
          "name": "stdout",
          "text": [
            "VALUE COUNTS FOR TRAIN:\n",
            "fear       1147\n",
            "anger       857\n",
            "joy         823\n",
            "sadness     786\n",
            "Name: label, dtype: int64\n",
            "\n",
            "\n",
            "VALUE COUNTS FOR VALIDATION:\n",
            "fear       110\n",
            "anger       84\n",
            "joy         79\n",
            "sadness     74\n",
            "Name: label, dtype: int64\n",
            "\n",
            "\n",
            "VALUE COUNTS FOR TEST:\n",
            "fear       995\n",
            "anger      760\n",
            "joy        714\n",
            "sadness    673\n",
            "Name: label, dtype: int64\n",
            "\n",
            "\n"
          ]
        }
      ]
    },
    {
      "cell_type": "markdown",
      "source": [
        "# MAPPING"
      ],
      "metadata": {
        "id": "oiyXsbXbjVs5"
      }
    },
    {
      "cell_type": "code",
      "source": [
        "emotions_categories = {'joy': ['joy',\n",
        "                               'happy',\n",
        "                               'laugh',\n",
        "                               'excited',\n",
        "                               'surprise'],\n",
        "                       'sadness': ['sad',\n",
        "                                   'disappointed',\n",
        "                                   'regret',\n",
        "                                   'depressed',\n",
        "                                   'lonely'],\n",
        "                       'anger': ['angry',\n",
        "                                 'frustrated',\n",
        "                                 'annoyed',\n",
        "                                 'irritated',\n",
        "                                 'mad'],\n",
        "                       'fear': ['afraid',\n",
        "                                'scared',\n",
        "                                'fear',\n",
        "                                'terrified',\n",
        "                                'nervous']}"
      ],
      "metadata": {
        "execution": {
          "iopub.status.busy": "2024-01-04T03:34:03.997928Z",
          "iopub.execute_input": "2024-01-04T03:34:03.999360Z",
          "iopub.status.idle": "2024-01-04T03:34:04.010406Z",
          "shell.execute_reply.started": "2024-01-04T03:34:03.999312Z",
          "shell.execute_reply": "2024-01-04T03:34:04.009049Z"
        },
        "trusted": true,
        "id": "8kex69oLjVs5"
      },
      "execution_count": 13,
      "outputs": []
    },
    {
      "cell_type": "code",
      "source": [
        "def DELETE_EMOJIS(datasetinit):\n",
        "    lendata = len(datasetinit)\n",
        "    e_pattern = re.compile(\"[\"\n",
        "        u\"\\U0001F600-\\U0001F64F\"  # emoticons\n",
        "        u\"\\U0001F300-\\U0001F5FF\"  # symbols & pictographs\n",
        "        u\"\\U0001F680-\\U0001F6FF\"  # transport & map symbols\n",
        "        u\"\\U0001F1E0-\\U0001F1FF\"  # flags (iOS)\n",
        "        u\"\\U00002702-\\U000027B0\"  # dingbats\n",
        "        u\"\\U0001F900-\\U0001F9FF\"  # Supplemental Symbols and Pictographs\n",
        "        u\"\\U0001F910-\\U0001F93F\"  # Emoji Faces\n",
        "        u\"\\U0001F940-\\U0001F97F\"  # Emoji Faces with Accessories\n",
        "        u\"\\U0001F980-\\U0001F9E0\"  # Other emojis\n",
        "                           \"]+\",flags=re.UNICODE)\n",
        "    for co_ in range(lendata):\n",
        "        tt = datasetinit[\"text\"][co_]\n",
        "        tt = e_pattern.sub(r\"\",tt)\n",
        "        datasetinit[\"text\"][co_] == tt"
      ],
      "metadata": {
        "execution": {
          "iopub.status.busy": "2024-01-04T03:34:04.014770Z",
          "iopub.execute_input": "2024-01-04T03:34:04.015903Z",
          "iopub.status.idle": "2024-01-04T03:34:04.028202Z",
          "shell.execute_reply.started": "2024-01-04T03:34:04.015837Z",
          "shell.execute_reply": "2024-01-04T03:34:04.026515Z"
        },
        "trusted": true,
        "id": "NmhYN8v9jVs6"
      },
      "execution_count": 14,
      "outputs": []
    },
    {
      "cell_type": "code",
      "source": [
        "def MULTI_EMOTION_MAPPING(datasetinit):\n",
        "    lendata = len(datasetinit)\n",
        "    for co_ in range(lendata):\n",
        "        val = datasetinit[\"label\"][co_]\n",
        "        if val == \"joy\":\n",
        "            datasetinit[\"label\"][co_] = \",\".join(str(xc) for xc in emotions_categories[\"joy\"])\n",
        "        elif val == \"sadness\":\n",
        "            datasetinit[\"label\"][co_] = \",\".join(str(xc) for xc in emotions_categories[\"sadness\"])\n",
        "        elif val == \"anger\":\n",
        "            datasetinit[\"label\"][co_] = \",\".join(str(xc) for xc in emotions_categories[\"anger\"])\n",
        "        elif val == \"fear\":\n",
        "            datasetinit[\"label\"][co_] = \",\".join(str(xc) for xc in emotions_categories[\"fear\"])\n",
        "        else:\n",
        "            pass"
      ],
      "metadata": {
        "execution": {
          "iopub.status.busy": "2024-01-04T03:34:04.030651Z",
          "iopub.execute_input": "2024-01-04T03:34:04.031557Z",
          "iopub.status.idle": "2024-01-04T03:34:04.044445Z",
          "shell.execute_reply.started": "2024-01-04T03:34:04.031501Z",
          "shell.execute_reply": "2024-01-04T03:34:04.043254Z"
        },
        "trusted": true,
        "id": "Do-v0ZNdjVs6"
      },
      "execution_count": 15,
      "outputs": []
    },
    {
      "cell_type": "code",
      "source": [
        "for x_data,x_name in zip(all_data_list,[\"TRAIN\",\"VALIDATION\",\"TEST\"]):\n",
        "    print(f\"PROCESS OF {x_name}\\n\")\n",
        "    MULTI_EMOTION_MAPPING(x_data)\n",
        "    x_data.reset_index(drop=True,inplace=True)\n",
        "    print(f\"[+++] DONE FOR {x_name}\\n\\n\")"
      ],
      "metadata": {
        "execution": {
          "iopub.status.busy": "2024-01-04T03:34:04.046450Z",
          "iopub.execute_input": "2024-01-04T03:34:04.047321Z",
          "iopub.status.idle": "2024-01-04T03:34:04.739491Z",
          "shell.execute_reply.started": "2024-01-04T03:34:04.047270Z",
          "shell.execute_reply": "2024-01-04T03:34:04.738111Z"
        },
        "trusted": true,
        "id": "YrCOYCJ4jVs6",
        "outputId": "3f883b84-56ad-465b-af90-3c3211b60495",
        "colab": {
          "base_uri": "https://localhost:8080/"
        }
      },
      "execution_count": 16,
      "outputs": [
        {
          "output_type": "stream",
          "name": "stdout",
          "text": [
            "PROCESS OF TRAIN\n",
            "\n",
            "[+++] DONE FOR TRAIN\n",
            "\n",
            "\n",
            "PROCESS OF VALIDATION\n",
            "\n",
            "[+++] DONE FOR VALIDATION\n",
            "\n",
            "\n",
            "PROCESS OF TEST\n",
            "\n",
            "[+++] DONE FOR TEST\n",
            "\n",
            "\n"
          ]
        }
      ]
    },
    {
      "cell_type": "code",
      "source": [
        "for x_data,x_name in zip(all_data_list,[\"TRAIN\",\"VALIDATION\",\"TEST\"]):\n",
        "    print(f\"CONTROL FOR - {x_name}\\n\\n{x_data.head()}\\n\\n\\n\")"
      ],
      "metadata": {
        "execution": {
          "iopub.status.busy": "2024-01-04T03:34:04.741178Z",
          "iopub.execute_input": "2024-01-04T03:34:04.741546Z",
          "iopub.status.idle": "2024-01-04T03:34:04.755396Z",
          "shell.execute_reply.started": "2024-01-04T03:34:04.741511Z",
          "shell.execute_reply": "2024-01-04T03:34:04.753927Z"
        },
        "trusted": true,
        "id": "outwPD5RjVs7",
        "outputId": "b069077f-23d4-46f6-ea94-0e64564cf13b",
        "colab": {
          "base_uri": "https://localhost:8080/"
        }
      },
      "execution_count": 17,
      "outputs": [
        {
          "output_type": "stream",
          "name": "stdout",
          "text": [
            "CONTROL FOR - TRAIN\n",
            "\n",
            "                                                text  \\\n",
            "0  Just got back from seeing @GaryDelaney in Burs...   \n",
            "1  Oh dear an evening of absolute hilarity I don'...   \n",
            "2  Been waiting all week for this game ❤️❤️❤️ #ch...   \n",
            "3  @gardiner_love : Thank you so much, Gloria! Yo...   \n",
            "4  I feel so blessed to work with the family that...   \n",
            "\n",
            "                              label  \n",
            "0  joy,happy,laugh,excited,surprise  \n",
            "1  joy,happy,laugh,excited,surprise  \n",
            "2  joy,happy,laugh,excited,surprise  \n",
            "3  joy,happy,laugh,excited,surprise  \n",
            "4  joy,happy,laugh,excited,surprise  \n",
            "\n",
            "\n",
            "\n",
            "CONTROL FOR - VALIDATION\n",
            "\n",
            "                                                text  \\\n",
            "0  @theclobra lol I thought maybe, couldn't decid...   \n",
            "1  Nawaz Sharif is getting more funnier than @kap...   \n",
            "2  Nawaz Sharif is getting more funnier than @kap...   \n",
            "3  @tomderivan73 😁...I'll just people watch and e...   \n",
            "4  I love my family so much #lucky #grateful #sma...   \n",
            "\n",
            "                              label  \n",
            "0  joy,happy,laugh,excited,surprise  \n",
            "1  joy,happy,laugh,excited,surprise  \n",
            "2  joy,happy,laugh,excited,surprise  \n",
            "3  joy,happy,laugh,excited,surprise  \n",
            "4  joy,happy,laugh,excited,surprise  \n",
            "\n",
            "\n",
            "\n",
            "CONTROL FOR - TEST\n",
            "\n",
            "                                                text  \\\n",
            "0  You must be knowing #blithe means (adj.)  Happ...   \n",
            "1  Old saying 'A #smile shared is one gained for ...   \n",
            "2  Bridget Jones' Baby was bloody hilarious 😅 #Br...   \n",
            "3  @Elaminova sparkling water makes your life spa...   \n",
            "4  I'm tired of everybody telling me to chill out...   \n",
            "\n",
            "                              label  \n",
            "0  joy,happy,laugh,excited,surprise  \n",
            "1  joy,happy,laugh,excited,surprise  \n",
            "2  joy,happy,laugh,excited,surprise  \n",
            "3  joy,happy,laugh,excited,surprise  \n",
            "4  joy,happy,laugh,excited,surprise  \n",
            "\n",
            "\n",
            "\n"
          ]
        }
      ]
    },
    {
      "cell_type": "code",
      "source": [
        "for x_data,x_name in zip(all_data_list,[\"TRAIN\",\"VALIDATION\",\"TEST\"]):\n",
        "    print(f\"CONTROL FOR MAPPING - {x_name}\\n\\n{x_data['label'].value_counts()}\\n\\n\\n\")"
      ],
      "metadata": {
        "execution": {
          "iopub.status.busy": "2024-01-04T03:34:04.757224Z",
          "iopub.execute_input": "2024-01-04T03:34:04.757609Z",
          "iopub.status.idle": "2024-01-04T03:34:04.772426Z",
          "shell.execute_reply.started": "2024-01-04T03:34:04.757573Z",
          "shell.execute_reply": "2024-01-04T03:34:04.770595Z"
        },
        "trusted": true,
        "id": "qTUvh5y0jVs7",
        "outputId": "88b463bd-c11d-4135-992b-c11e5ff44bb5",
        "colab": {
          "base_uri": "https://localhost:8080/"
        }
      },
      "execution_count": 18,
      "outputs": [
        {
          "output_type": "stream",
          "name": "stdout",
          "text": [
            "CONTROL FOR MAPPING - TRAIN\n",
            "\n",
            "afraid,scared,fear,terrified,nervous        1147\n",
            "angry,frustrated,annoyed,irritated,mad       857\n",
            "joy,happy,laugh,excited,surprise             823\n",
            "sad,disappointed,regret,depressed,lonely     786\n",
            "Name: label, dtype: int64\n",
            "\n",
            "\n",
            "\n",
            "CONTROL FOR MAPPING - VALIDATION\n",
            "\n",
            "afraid,scared,fear,terrified,nervous        110\n",
            "angry,frustrated,annoyed,irritated,mad       84\n",
            "joy,happy,laugh,excited,surprise             79\n",
            "sad,disappointed,regret,depressed,lonely     74\n",
            "Name: label, dtype: int64\n",
            "\n",
            "\n",
            "\n",
            "CONTROL FOR MAPPING - TEST\n",
            "\n",
            "afraid,scared,fear,terrified,nervous        995\n",
            "angry,frustrated,annoyed,irritated,mad      760\n",
            "joy,happy,laugh,excited,surprise            714\n",
            "sad,disappointed,regret,depressed,lonely    673\n",
            "Name: label, dtype: int64\n",
            "\n",
            "\n",
            "\n"
          ]
        }
      ]
    },
    {
      "cell_type": "code",
      "source": [
        "for x_data,x_name in zip(all_data_list,[\"TRAIN\",\"VALIDATION\",\"TEST\"]):\n",
        "    print(f\"NULL CONTROL FOR {x_name}:\\n{x_data.isnull().sum()}\\n\\n\")"
      ],
      "metadata": {
        "execution": {
          "iopub.status.busy": "2024-01-04T03:34:04.774174Z",
          "iopub.execute_input": "2024-01-04T03:34:04.774534Z",
          "iopub.status.idle": "2024-01-04T03:34:04.791520Z",
          "shell.execute_reply.started": "2024-01-04T03:34:04.774491Z",
          "shell.execute_reply": "2024-01-04T03:34:04.789591Z"
        },
        "trusted": true,
        "id": "l01Ux0hhjVs7",
        "outputId": "147b3d71-217d-4d20-832b-4231fdad861b",
        "colab": {
          "base_uri": "https://localhost:8080/"
        }
      },
      "execution_count": 19,
      "outputs": [
        {
          "output_type": "stream",
          "name": "stdout",
          "text": [
            "NULL CONTROL FOR TRAIN:\n",
            "text     0\n",
            "label    0\n",
            "dtype: int64\n",
            "\n",
            "\n",
            "NULL CONTROL FOR VALIDATION:\n",
            "text     0\n",
            "label    0\n",
            "dtype: int64\n",
            "\n",
            "\n",
            "NULL CONTROL FOR TEST:\n",
            "text     0\n",
            "label    0\n",
            "dtype: int64\n",
            "\n",
            "\n"
          ]
        }
      ]
    },
    {
      "cell_type": "code",
      "source": [
        "for x_data,x_name in zip(all_data_list,[\"TRAIN\",\"VALIDATION\",\"TEST\"]):\n",
        "    print(f\"PROCESS OF {x_name}\\n\")\n",
        "    DELETE_EMOJIS(x_data)\n",
        "    x_data.reset_index(drop=True,inplace=True)\n",
        "    print(f\"[+++] DONE FOR {x_name}\\n\\n\")"
      ],
      "metadata": {
        "execution": {
          "iopub.status.busy": "2024-01-04T03:34:04.793595Z",
          "iopub.execute_input": "2024-01-04T03:34:04.794004Z",
          "iopub.status.idle": "2024-01-04T03:34:05.002792Z",
          "shell.execute_reply.started": "2024-01-04T03:34:04.793966Z",
          "shell.execute_reply": "2024-01-04T03:34:05.001223Z"
        },
        "trusted": true,
        "id": "QeSJ1pbrjVs8",
        "outputId": "f1050214-d8a6-40eb-a066-71fce185fd88",
        "colab": {
          "base_uri": "https://localhost:8080/"
        }
      },
      "execution_count": 20,
      "outputs": [
        {
          "output_type": "stream",
          "name": "stdout",
          "text": [
            "PROCESS OF TRAIN\n",
            "\n",
            "[+++] DONE FOR TRAIN\n",
            "\n",
            "\n",
            "PROCESS OF VALIDATION\n",
            "\n",
            "[+++] DONE FOR VALIDATION\n",
            "\n",
            "\n",
            "PROCESS OF TEST\n",
            "\n",
            "[+++] DONE FOR TEST\n",
            "\n",
            "\n"
          ]
        }
      ]
    },
    {
      "cell_type": "code",
      "source": [
        "train_pd.head()"
      ],
      "metadata": {
        "execution": {
          "iopub.status.busy": "2024-01-04T03:34:05.006587Z",
          "iopub.execute_input": "2024-01-04T03:34:05.007801Z",
          "iopub.status.idle": "2024-01-04T03:34:05.032238Z",
          "shell.execute_reply.started": "2024-01-04T03:34:05.007739Z",
          "shell.execute_reply": "2024-01-04T03:34:05.030737Z"
        },
        "trusted": true,
        "id": "FK5JajqBjVs8",
        "outputId": "830c9bb1-52b4-449e-ac6e-81106aac7fe8",
        "colab": {
          "base_uri": "https://localhost:8080/",
          "height": 206
        }
      },
      "execution_count": 21,
      "outputs": [
        {
          "output_type": "execute_result",
          "data": {
            "text/plain": [
              "                                                text  \\\n",
              "0  Just got back from seeing @GaryDelaney in Burs...   \n",
              "1  Oh dear an evening of absolute hilarity I don'...   \n",
              "2  Been waiting all week for this game ❤️❤️❤️ #ch...   \n",
              "3  @gardiner_love : Thank you so much, Gloria! Yo...   \n",
              "4  I feel so blessed to work with the family that...   \n",
              "\n",
              "                              label  \n",
              "0  joy,happy,laugh,excited,surprise  \n",
              "1  joy,happy,laugh,excited,surprise  \n",
              "2  joy,happy,laugh,excited,surprise  \n",
              "3  joy,happy,laugh,excited,surprise  \n",
              "4  joy,happy,laugh,excited,surprise  "
            ],
            "text/html": [
              "\n",
              "  <div id=\"df-85fc8c8f-7fad-453c-a1ae-16f55c0c7941\" class=\"colab-df-container\">\n",
              "    <div>\n",
              "<style scoped>\n",
              "    .dataframe tbody tr th:only-of-type {\n",
              "        vertical-align: middle;\n",
              "    }\n",
              "\n",
              "    .dataframe tbody tr th {\n",
              "        vertical-align: top;\n",
              "    }\n",
              "\n",
              "    .dataframe thead th {\n",
              "        text-align: right;\n",
              "    }\n",
              "</style>\n",
              "<table border=\"1\" class=\"dataframe\">\n",
              "  <thead>\n",
              "    <tr style=\"text-align: right;\">\n",
              "      <th></th>\n",
              "      <th>text</th>\n",
              "      <th>label</th>\n",
              "    </tr>\n",
              "  </thead>\n",
              "  <tbody>\n",
              "    <tr>\n",
              "      <th>0</th>\n",
              "      <td>Just got back from seeing @GaryDelaney in Burs...</td>\n",
              "      <td>joy,happy,laugh,excited,surprise</td>\n",
              "    </tr>\n",
              "    <tr>\n",
              "      <th>1</th>\n",
              "      <td>Oh dear an evening of absolute hilarity I don'...</td>\n",
              "      <td>joy,happy,laugh,excited,surprise</td>\n",
              "    </tr>\n",
              "    <tr>\n",
              "      <th>2</th>\n",
              "      <td>Been waiting all week for this game ❤️❤️❤️ #ch...</td>\n",
              "      <td>joy,happy,laugh,excited,surprise</td>\n",
              "    </tr>\n",
              "    <tr>\n",
              "      <th>3</th>\n",
              "      <td>@gardiner_love : Thank you so much, Gloria! Yo...</td>\n",
              "      <td>joy,happy,laugh,excited,surprise</td>\n",
              "    </tr>\n",
              "    <tr>\n",
              "      <th>4</th>\n",
              "      <td>I feel so blessed to work with the family that...</td>\n",
              "      <td>joy,happy,laugh,excited,surprise</td>\n",
              "    </tr>\n",
              "  </tbody>\n",
              "</table>\n",
              "</div>\n",
              "    <div class=\"colab-df-buttons\">\n",
              "\n",
              "  <div class=\"colab-df-container\">\n",
              "    <button class=\"colab-df-convert\" onclick=\"convertToInteractive('df-85fc8c8f-7fad-453c-a1ae-16f55c0c7941')\"\n",
              "            title=\"Convert this dataframe to an interactive table.\"\n",
              "            style=\"display:none;\">\n",
              "\n",
              "  <svg xmlns=\"http://www.w3.org/2000/svg\" height=\"24px\" viewBox=\"0 -960 960 960\">\n",
              "    <path d=\"M120-120v-720h720v720H120Zm60-500h600v-160H180v160Zm220 220h160v-160H400v160Zm0 220h160v-160H400v160ZM180-400h160v-160H180v160Zm440 0h160v-160H620v160ZM180-180h160v-160H180v160Zm440 0h160v-160H620v160Z\"/>\n",
              "  </svg>\n",
              "    </button>\n",
              "\n",
              "  <style>\n",
              "    .colab-df-container {\n",
              "      display:flex;\n",
              "      gap: 12px;\n",
              "    }\n",
              "\n",
              "    .colab-df-convert {\n",
              "      background-color: #E8F0FE;\n",
              "      border: none;\n",
              "      border-radius: 50%;\n",
              "      cursor: pointer;\n",
              "      display: none;\n",
              "      fill: #1967D2;\n",
              "      height: 32px;\n",
              "      padding: 0 0 0 0;\n",
              "      width: 32px;\n",
              "    }\n",
              "\n",
              "    .colab-df-convert:hover {\n",
              "      background-color: #E2EBFA;\n",
              "      box-shadow: 0px 1px 2px rgba(60, 64, 67, 0.3), 0px 1px 3px 1px rgba(60, 64, 67, 0.15);\n",
              "      fill: #174EA6;\n",
              "    }\n",
              "\n",
              "    .colab-df-buttons div {\n",
              "      margin-bottom: 4px;\n",
              "    }\n",
              "\n",
              "    [theme=dark] .colab-df-convert {\n",
              "      background-color: #3B4455;\n",
              "      fill: #D2E3FC;\n",
              "    }\n",
              "\n",
              "    [theme=dark] .colab-df-convert:hover {\n",
              "      background-color: #434B5C;\n",
              "      box-shadow: 0px 1px 3px 1px rgba(0, 0, 0, 0.15);\n",
              "      filter: drop-shadow(0px 1px 2px rgba(0, 0, 0, 0.3));\n",
              "      fill: #FFFFFF;\n",
              "    }\n",
              "  </style>\n",
              "\n",
              "    <script>\n",
              "      const buttonEl =\n",
              "        document.querySelector('#df-85fc8c8f-7fad-453c-a1ae-16f55c0c7941 button.colab-df-convert');\n",
              "      buttonEl.style.display =\n",
              "        google.colab.kernel.accessAllowed ? 'block' : 'none';\n",
              "\n",
              "      async function convertToInteractive(key) {\n",
              "        const element = document.querySelector('#df-85fc8c8f-7fad-453c-a1ae-16f55c0c7941');\n",
              "        const dataTable =\n",
              "          await google.colab.kernel.invokeFunction('convertToInteractive',\n",
              "                                                    [key], {});\n",
              "        if (!dataTable) return;\n",
              "\n",
              "        const docLinkHtml = 'Like what you see? Visit the ' +\n",
              "          '<a target=\"_blank\" href=https://colab.research.google.com/notebooks/data_table.ipynb>data table notebook</a>'\n",
              "          + ' to learn more about interactive tables.';\n",
              "        element.innerHTML = '';\n",
              "        dataTable['output_type'] = 'display_data';\n",
              "        await google.colab.output.renderOutput(dataTable, element);\n",
              "        const docLink = document.createElement('div');\n",
              "        docLink.innerHTML = docLinkHtml;\n",
              "        element.appendChild(docLink);\n",
              "      }\n",
              "    </script>\n",
              "  </div>\n",
              "\n",
              "\n",
              "<div id=\"df-3fdf2569-f1ae-4291-9766-f29dacded48b\">\n",
              "  <button class=\"colab-df-quickchart\" onclick=\"quickchart('df-3fdf2569-f1ae-4291-9766-f29dacded48b')\"\n",
              "            title=\"Suggest charts\"\n",
              "            style=\"display:none;\">\n",
              "\n",
              "<svg xmlns=\"http://www.w3.org/2000/svg\" height=\"24px\"viewBox=\"0 0 24 24\"\n",
              "     width=\"24px\">\n",
              "    <g>\n",
              "        <path d=\"M19 3H5c-1.1 0-2 .9-2 2v14c0 1.1.9 2 2 2h14c1.1 0 2-.9 2-2V5c0-1.1-.9-2-2-2zM9 17H7v-7h2v7zm4 0h-2V7h2v10zm4 0h-2v-4h2v4z\"/>\n",
              "    </g>\n",
              "</svg>\n",
              "  </button>\n",
              "\n",
              "<style>\n",
              "  .colab-df-quickchart {\n",
              "      --bg-color: #E8F0FE;\n",
              "      --fill-color: #1967D2;\n",
              "      --hover-bg-color: #E2EBFA;\n",
              "      --hover-fill-color: #174EA6;\n",
              "      --disabled-fill-color: #AAA;\n",
              "      --disabled-bg-color: #DDD;\n",
              "  }\n",
              "\n",
              "  [theme=dark] .colab-df-quickchart {\n",
              "      --bg-color: #3B4455;\n",
              "      --fill-color: #D2E3FC;\n",
              "      --hover-bg-color: #434B5C;\n",
              "      --hover-fill-color: #FFFFFF;\n",
              "      --disabled-bg-color: #3B4455;\n",
              "      --disabled-fill-color: #666;\n",
              "  }\n",
              "\n",
              "  .colab-df-quickchart {\n",
              "    background-color: var(--bg-color);\n",
              "    border: none;\n",
              "    border-radius: 50%;\n",
              "    cursor: pointer;\n",
              "    display: none;\n",
              "    fill: var(--fill-color);\n",
              "    height: 32px;\n",
              "    padding: 0;\n",
              "    width: 32px;\n",
              "  }\n",
              "\n",
              "  .colab-df-quickchart:hover {\n",
              "    background-color: var(--hover-bg-color);\n",
              "    box-shadow: 0 1px 2px rgba(60, 64, 67, 0.3), 0 1px 3px 1px rgba(60, 64, 67, 0.15);\n",
              "    fill: var(--button-hover-fill-color);\n",
              "  }\n",
              "\n",
              "  .colab-df-quickchart-complete:disabled,\n",
              "  .colab-df-quickchart-complete:disabled:hover {\n",
              "    background-color: var(--disabled-bg-color);\n",
              "    fill: var(--disabled-fill-color);\n",
              "    box-shadow: none;\n",
              "  }\n",
              "\n",
              "  .colab-df-spinner {\n",
              "    border: 2px solid var(--fill-color);\n",
              "    border-color: transparent;\n",
              "    border-bottom-color: var(--fill-color);\n",
              "    animation:\n",
              "      spin 1s steps(1) infinite;\n",
              "  }\n",
              "\n",
              "  @keyframes spin {\n",
              "    0% {\n",
              "      border-color: transparent;\n",
              "      border-bottom-color: var(--fill-color);\n",
              "      border-left-color: var(--fill-color);\n",
              "    }\n",
              "    20% {\n",
              "      border-color: transparent;\n",
              "      border-left-color: var(--fill-color);\n",
              "      border-top-color: var(--fill-color);\n",
              "    }\n",
              "    30% {\n",
              "      border-color: transparent;\n",
              "      border-left-color: var(--fill-color);\n",
              "      border-top-color: var(--fill-color);\n",
              "      border-right-color: var(--fill-color);\n",
              "    }\n",
              "    40% {\n",
              "      border-color: transparent;\n",
              "      border-right-color: var(--fill-color);\n",
              "      border-top-color: var(--fill-color);\n",
              "    }\n",
              "    60% {\n",
              "      border-color: transparent;\n",
              "      border-right-color: var(--fill-color);\n",
              "    }\n",
              "    80% {\n",
              "      border-color: transparent;\n",
              "      border-right-color: var(--fill-color);\n",
              "      border-bottom-color: var(--fill-color);\n",
              "    }\n",
              "    90% {\n",
              "      border-color: transparent;\n",
              "      border-bottom-color: var(--fill-color);\n",
              "    }\n",
              "  }\n",
              "</style>\n",
              "\n",
              "  <script>\n",
              "    async function quickchart(key) {\n",
              "      const quickchartButtonEl =\n",
              "        document.querySelector('#' + key + ' button');\n",
              "      quickchartButtonEl.disabled = true;  // To prevent multiple clicks.\n",
              "      quickchartButtonEl.classList.add('colab-df-spinner');\n",
              "      try {\n",
              "        const charts = await google.colab.kernel.invokeFunction(\n",
              "            'suggestCharts', [key], {});\n",
              "      } catch (error) {\n",
              "        console.error('Error during call to suggestCharts:', error);\n",
              "      }\n",
              "      quickchartButtonEl.classList.remove('colab-df-spinner');\n",
              "      quickchartButtonEl.classList.add('colab-df-quickchart-complete');\n",
              "    }\n",
              "    (() => {\n",
              "      let quickchartButtonEl =\n",
              "        document.querySelector('#df-3fdf2569-f1ae-4291-9766-f29dacded48b button');\n",
              "      quickchartButtonEl.style.display =\n",
              "        google.colab.kernel.accessAllowed ? 'block' : 'none';\n",
              "    })();\n",
              "  </script>\n",
              "</div>\n",
              "\n",
              "    </div>\n",
              "  </div>\n"
            ]
          },
          "metadata": {},
          "execution_count": 21
        }
      ]
    },
    {
      "cell_type": "code",
      "source": [
        "train_pd.tail()"
      ],
      "metadata": {
        "execution": {
          "iopub.status.busy": "2024-01-04T03:34:05.035144Z",
          "iopub.execute_input": "2024-01-04T03:34:05.036328Z",
          "iopub.status.idle": "2024-01-04T03:34:05.053554Z",
          "shell.execute_reply.started": "2024-01-04T03:34:05.036267Z",
          "shell.execute_reply": "2024-01-04T03:34:05.052139Z"
        },
        "trusted": true,
        "id": "6EO3hD10jVs8",
        "outputId": "d1024cc6-2858-4a2d-df31-2ee9f0762b93",
        "colab": {
          "base_uri": "https://localhost:8080/",
          "height": 206
        }
      },
      "execution_count": 22,
      "outputs": [
        {
          "output_type": "execute_result",
          "data": {
            "text/plain": [
              "                                                   text  \\\n",
              "3608  @VivienLloyd Thank you so much! Just home - st...   \n",
              "3609              Just put the winter duvet on ☃️❄️🌬☔️    \n",
              "3610  @SilkInSide @TommyJoeRatliff that's so pretty!...   \n",
              "3611  @BluesfestByron second artist announcement loo...   \n",
              "3612  I can literally eat creamy pesto pasta topped ...   \n",
              "\n",
              "                                         label  \n",
              "3608  sad,disappointed,regret,depressed,lonely  \n",
              "3609  sad,disappointed,regret,depressed,lonely  \n",
              "3610  sad,disappointed,regret,depressed,lonely  \n",
              "3611  sad,disappointed,regret,depressed,lonely  \n",
              "3612  sad,disappointed,regret,depressed,lonely  "
            ],
            "text/html": [
              "\n",
              "  <div id=\"df-12f8e6ac-80c8-4a8b-84b4-9d3901882091\" class=\"colab-df-container\">\n",
              "    <div>\n",
              "<style scoped>\n",
              "    .dataframe tbody tr th:only-of-type {\n",
              "        vertical-align: middle;\n",
              "    }\n",
              "\n",
              "    .dataframe tbody tr th {\n",
              "        vertical-align: top;\n",
              "    }\n",
              "\n",
              "    .dataframe thead th {\n",
              "        text-align: right;\n",
              "    }\n",
              "</style>\n",
              "<table border=\"1\" class=\"dataframe\">\n",
              "  <thead>\n",
              "    <tr style=\"text-align: right;\">\n",
              "      <th></th>\n",
              "      <th>text</th>\n",
              "      <th>label</th>\n",
              "    </tr>\n",
              "  </thead>\n",
              "  <tbody>\n",
              "    <tr>\n",
              "      <th>3608</th>\n",
              "      <td>@VivienLloyd Thank you so much! Just home - st...</td>\n",
              "      <td>sad,disappointed,regret,depressed,lonely</td>\n",
              "    </tr>\n",
              "    <tr>\n",
              "      <th>3609</th>\n",
              "      <td>Just put the winter duvet on ☃️❄️🌬☔️</td>\n",
              "      <td>sad,disappointed,regret,depressed,lonely</td>\n",
              "    </tr>\n",
              "    <tr>\n",
              "      <th>3610</th>\n",
              "      <td>@SilkInSide @TommyJoeRatliff that's so pretty!...</td>\n",
              "      <td>sad,disappointed,regret,depressed,lonely</td>\n",
              "    </tr>\n",
              "    <tr>\n",
              "      <th>3611</th>\n",
              "      <td>@BluesfestByron second artist announcement loo...</td>\n",
              "      <td>sad,disappointed,regret,depressed,lonely</td>\n",
              "    </tr>\n",
              "    <tr>\n",
              "      <th>3612</th>\n",
              "      <td>I can literally eat creamy pesto pasta topped ...</td>\n",
              "      <td>sad,disappointed,regret,depressed,lonely</td>\n",
              "    </tr>\n",
              "  </tbody>\n",
              "</table>\n",
              "</div>\n",
              "    <div class=\"colab-df-buttons\">\n",
              "\n",
              "  <div class=\"colab-df-container\">\n",
              "    <button class=\"colab-df-convert\" onclick=\"convertToInteractive('df-12f8e6ac-80c8-4a8b-84b4-9d3901882091')\"\n",
              "            title=\"Convert this dataframe to an interactive table.\"\n",
              "            style=\"display:none;\">\n",
              "\n",
              "  <svg xmlns=\"http://www.w3.org/2000/svg\" height=\"24px\" viewBox=\"0 -960 960 960\">\n",
              "    <path d=\"M120-120v-720h720v720H120Zm60-500h600v-160H180v160Zm220 220h160v-160H400v160Zm0 220h160v-160H400v160ZM180-400h160v-160H180v160Zm440 0h160v-160H620v160ZM180-180h160v-160H180v160Zm440 0h160v-160H620v160Z\"/>\n",
              "  </svg>\n",
              "    </button>\n",
              "\n",
              "  <style>\n",
              "    .colab-df-container {\n",
              "      display:flex;\n",
              "      gap: 12px;\n",
              "    }\n",
              "\n",
              "    .colab-df-convert {\n",
              "      background-color: #E8F0FE;\n",
              "      border: none;\n",
              "      border-radius: 50%;\n",
              "      cursor: pointer;\n",
              "      display: none;\n",
              "      fill: #1967D2;\n",
              "      height: 32px;\n",
              "      padding: 0 0 0 0;\n",
              "      width: 32px;\n",
              "    }\n",
              "\n",
              "    .colab-df-convert:hover {\n",
              "      background-color: #E2EBFA;\n",
              "      box-shadow: 0px 1px 2px rgba(60, 64, 67, 0.3), 0px 1px 3px 1px rgba(60, 64, 67, 0.15);\n",
              "      fill: #174EA6;\n",
              "    }\n",
              "\n",
              "    .colab-df-buttons div {\n",
              "      margin-bottom: 4px;\n",
              "    }\n",
              "\n",
              "    [theme=dark] .colab-df-convert {\n",
              "      background-color: #3B4455;\n",
              "      fill: #D2E3FC;\n",
              "    }\n",
              "\n",
              "    [theme=dark] .colab-df-convert:hover {\n",
              "      background-color: #434B5C;\n",
              "      box-shadow: 0px 1px 3px 1px rgba(0, 0, 0, 0.15);\n",
              "      filter: drop-shadow(0px 1px 2px rgba(0, 0, 0, 0.3));\n",
              "      fill: #FFFFFF;\n",
              "    }\n",
              "  </style>\n",
              "\n",
              "    <script>\n",
              "      const buttonEl =\n",
              "        document.querySelector('#df-12f8e6ac-80c8-4a8b-84b4-9d3901882091 button.colab-df-convert');\n",
              "      buttonEl.style.display =\n",
              "        google.colab.kernel.accessAllowed ? 'block' : 'none';\n",
              "\n",
              "      async function convertToInteractive(key) {\n",
              "        const element = document.querySelector('#df-12f8e6ac-80c8-4a8b-84b4-9d3901882091');\n",
              "        const dataTable =\n",
              "          await google.colab.kernel.invokeFunction('convertToInteractive',\n",
              "                                                    [key], {});\n",
              "        if (!dataTable) return;\n",
              "\n",
              "        const docLinkHtml = 'Like what you see? Visit the ' +\n",
              "          '<a target=\"_blank\" href=https://colab.research.google.com/notebooks/data_table.ipynb>data table notebook</a>'\n",
              "          + ' to learn more about interactive tables.';\n",
              "        element.innerHTML = '';\n",
              "        dataTable['output_type'] = 'display_data';\n",
              "        await google.colab.output.renderOutput(dataTable, element);\n",
              "        const docLink = document.createElement('div');\n",
              "        docLink.innerHTML = docLinkHtml;\n",
              "        element.appendChild(docLink);\n",
              "      }\n",
              "    </script>\n",
              "  </div>\n",
              "\n",
              "\n",
              "<div id=\"df-9414e985-f4e6-491c-90ae-3aa304cf446c\">\n",
              "  <button class=\"colab-df-quickchart\" onclick=\"quickchart('df-9414e985-f4e6-491c-90ae-3aa304cf446c')\"\n",
              "            title=\"Suggest charts\"\n",
              "            style=\"display:none;\">\n",
              "\n",
              "<svg xmlns=\"http://www.w3.org/2000/svg\" height=\"24px\"viewBox=\"0 0 24 24\"\n",
              "     width=\"24px\">\n",
              "    <g>\n",
              "        <path d=\"M19 3H5c-1.1 0-2 .9-2 2v14c0 1.1.9 2 2 2h14c1.1 0 2-.9 2-2V5c0-1.1-.9-2-2-2zM9 17H7v-7h2v7zm4 0h-2V7h2v10zm4 0h-2v-4h2v4z\"/>\n",
              "    </g>\n",
              "</svg>\n",
              "  </button>\n",
              "\n",
              "<style>\n",
              "  .colab-df-quickchart {\n",
              "      --bg-color: #E8F0FE;\n",
              "      --fill-color: #1967D2;\n",
              "      --hover-bg-color: #E2EBFA;\n",
              "      --hover-fill-color: #174EA6;\n",
              "      --disabled-fill-color: #AAA;\n",
              "      --disabled-bg-color: #DDD;\n",
              "  }\n",
              "\n",
              "  [theme=dark] .colab-df-quickchart {\n",
              "      --bg-color: #3B4455;\n",
              "      --fill-color: #D2E3FC;\n",
              "      --hover-bg-color: #434B5C;\n",
              "      --hover-fill-color: #FFFFFF;\n",
              "      --disabled-bg-color: #3B4455;\n",
              "      --disabled-fill-color: #666;\n",
              "  }\n",
              "\n",
              "  .colab-df-quickchart {\n",
              "    background-color: var(--bg-color);\n",
              "    border: none;\n",
              "    border-radius: 50%;\n",
              "    cursor: pointer;\n",
              "    display: none;\n",
              "    fill: var(--fill-color);\n",
              "    height: 32px;\n",
              "    padding: 0;\n",
              "    width: 32px;\n",
              "  }\n",
              "\n",
              "  .colab-df-quickchart:hover {\n",
              "    background-color: var(--hover-bg-color);\n",
              "    box-shadow: 0 1px 2px rgba(60, 64, 67, 0.3), 0 1px 3px 1px rgba(60, 64, 67, 0.15);\n",
              "    fill: var(--button-hover-fill-color);\n",
              "  }\n",
              "\n",
              "  .colab-df-quickchart-complete:disabled,\n",
              "  .colab-df-quickchart-complete:disabled:hover {\n",
              "    background-color: var(--disabled-bg-color);\n",
              "    fill: var(--disabled-fill-color);\n",
              "    box-shadow: none;\n",
              "  }\n",
              "\n",
              "  .colab-df-spinner {\n",
              "    border: 2px solid var(--fill-color);\n",
              "    border-color: transparent;\n",
              "    border-bottom-color: var(--fill-color);\n",
              "    animation:\n",
              "      spin 1s steps(1) infinite;\n",
              "  }\n",
              "\n",
              "  @keyframes spin {\n",
              "    0% {\n",
              "      border-color: transparent;\n",
              "      border-bottom-color: var(--fill-color);\n",
              "      border-left-color: var(--fill-color);\n",
              "    }\n",
              "    20% {\n",
              "      border-color: transparent;\n",
              "      border-left-color: var(--fill-color);\n",
              "      border-top-color: var(--fill-color);\n",
              "    }\n",
              "    30% {\n",
              "      border-color: transparent;\n",
              "      border-left-color: var(--fill-color);\n",
              "      border-top-color: var(--fill-color);\n",
              "      border-right-color: var(--fill-color);\n",
              "    }\n",
              "    40% {\n",
              "      border-color: transparent;\n",
              "      border-right-color: var(--fill-color);\n",
              "      border-top-color: var(--fill-color);\n",
              "    }\n",
              "    60% {\n",
              "      border-color: transparent;\n",
              "      border-right-color: var(--fill-color);\n",
              "    }\n",
              "    80% {\n",
              "      border-color: transparent;\n",
              "      border-right-color: var(--fill-color);\n",
              "      border-bottom-color: var(--fill-color);\n",
              "    }\n",
              "    90% {\n",
              "      border-color: transparent;\n",
              "      border-bottom-color: var(--fill-color);\n",
              "    }\n",
              "  }\n",
              "</style>\n",
              "\n",
              "  <script>\n",
              "    async function quickchart(key) {\n",
              "      const quickchartButtonEl =\n",
              "        document.querySelector('#' + key + ' button');\n",
              "      quickchartButtonEl.disabled = true;  // To prevent multiple clicks.\n",
              "      quickchartButtonEl.classList.add('colab-df-spinner');\n",
              "      try {\n",
              "        const charts = await google.colab.kernel.invokeFunction(\n",
              "            'suggestCharts', [key], {});\n",
              "      } catch (error) {\n",
              "        console.error('Error during call to suggestCharts:', error);\n",
              "      }\n",
              "      quickchartButtonEl.classList.remove('colab-df-spinner');\n",
              "      quickchartButtonEl.classList.add('colab-df-quickchart-complete');\n",
              "    }\n",
              "    (() => {\n",
              "      let quickchartButtonEl =\n",
              "        document.querySelector('#df-9414e985-f4e6-491c-90ae-3aa304cf446c button');\n",
              "      quickchartButtonEl.style.display =\n",
              "        google.colab.kernel.accessAllowed ? 'block' : 'none';\n",
              "    })();\n",
              "  </script>\n",
              "</div>\n",
              "\n",
              "    </div>\n",
              "  </div>\n"
            ]
          },
          "metadata": {},
          "execution_count": 22
        }
      ]
    },
    {
      "cell_type": "code",
      "source": [
        "all_train_data = pd.concat([train_pd,validation_pd,test_pd],ignore_index=True)"
      ],
      "metadata": {
        "execution": {
          "iopub.status.busy": "2024-01-04T03:34:05.056148Z",
          "iopub.execute_input": "2024-01-04T03:34:05.056561Z",
          "iopub.status.idle": "2024-01-04T03:34:05.065162Z",
          "shell.execute_reply.started": "2024-01-04T03:34:05.056523Z",
          "shell.execute_reply": "2024-01-04T03:34:05.063257Z"
        },
        "trusted": true,
        "id": "I1_xe1FjjVs8"
      },
      "execution_count": 23,
      "outputs": []
    },
    {
      "cell_type": "code",
      "source": [
        "all_train_data"
      ],
      "metadata": {
        "execution": {
          "iopub.status.busy": "2024-01-04T03:34:05.067615Z",
          "iopub.execute_input": "2024-01-04T03:34:05.069246Z",
          "iopub.status.idle": "2024-01-04T03:34:05.092078Z",
          "shell.execute_reply.started": "2024-01-04T03:34:05.069169Z",
          "shell.execute_reply": "2024-01-04T03:34:05.090517Z"
        },
        "trusted": true,
        "id": "rK-E7oHUjVs9",
        "outputId": "bb455920-7866-4189-f747-ac352afae942",
        "colab": {
          "base_uri": "https://localhost:8080/",
          "height": 423
        }
      },
      "execution_count": 24,
      "outputs": [
        {
          "output_type": "execute_result",
          "data": {
            "text/plain": [
              "                                                   text  \\\n",
              "0     Just got back from seeing @GaryDelaney in Burs...   \n",
              "1     Oh dear an evening of absolute hilarity I don'...   \n",
              "2     Been waiting all week for this game ❤️❤️❤️ #ch...   \n",
              "3     @gardiner_love : Thank you so much, Gloria! Yo...   \n",
              "4     I feel so blessed to work with the family that...   \n",
              "...                                                 ...   \n",
              "7097          Why does Candice constantly pout #GBBO 💄😒   \n",
              "7098  @redBus_in #unhappy with #redbus CC, when I ta...   \n",
              "7099  @AceOperative789 no pull him afew weeks ago, s...   \n",
              "7100  I'm buying art supplies and I'm debating how s...   \n",
              "7101  @sainsburys Could you ask your Chafford Hundre...   \n",
              "\n",
              "                                         label  \n",
              "0             joy,happy,laugh,excited,surprise  \n",
              "1             joy,happy,laugh,excited,surprise  \n",
              "2             joy,happy,laugh,excited,surprise  \n",
              "3             joy,happy,laugh,excited,surprise  \n",
              "4             joy,happy,laugh,excited,surprise  \n",
              "...                                        ...  \n",
              "7097  sad,disappointed,regret,depressed,lonely  \n",
              "7098  sad,disappointed,regret,depressed,lonely  \n",
              "7099  sad,disappointed,regret,depressed,lonely  \n",
              "7100  sad,disappointed,regret,depressed,lonely  \n",
              "7101  sad,disappointed,regret,depressed,lonely  \n",
              "\n",
              "[7102 rows x 2 columns]"
            ],
            "text/html": [
              "\n",
              "  <div id=\"df-e7ffdfe9-fb38-4c9b-8bde-0d36e2eeae1d\" class=\"colab-df-container\">\n",
              "    <div>\n",
              "<style scoped>\n",
              "    .dataframe tbody tr th:only-of-type {\n",
              "        vertical-align: middle;\n",
              "    }\n",
              "\n",
              "    .dataframe tbody tr th {\n",
              "        vertical-align: top;\n",
              "    }\n",
              "\n",
              "    .dataframe thead th {\n",
              "        text-align: right;\n",
              "    }\n",
              "</style>\n",
              "<table border=\"1\" class=\"dataframe\">\n",
              "  <thead>\n",
              "    <tr style=\"text-align: right;\">\n",
              "      <th></th>\n",
              "      <th>text</th>\n",
              "      <th>label</th>\n",
              "    </tr>\n",
              "  </thead>\n",
              "  <tbody>\n",
              "    <tr>\n",
              "      <th>0</th>\n",
              "      <td>Just got back from seeing @GaryDelaney in Burs...</td>\n",
              "      <td>joy,happy,laugh,excited,surprise</td>\n",
              "    </tr>\n",
              "    <tr>\n",
              "      <th>1</th>\n",
              "      <td>Oh dear an evening of absolute hilarity I don'...</td>\n",
              "      <td>joy,happy,laugh,excited,surprise</td>\n",
              "    </tr>\n",
              "    <tr>\n",
              "      <th>2</th>\n",
              "      <td>Been waiting all week for this game ❤️❤️❤️ #ch...</td>\n",
              "      <td>joy,happy,laugh,excited,surprise</td>\n",
              "    </tr>\n",
              "    <tr>\n",
              "      <th>3</th>\n",
              "      <td>@gardiner_love : Thank you so much, Gloria! Yo...</td>\n",
              "      <td>joy,happy,laugh,excited,surprise</td>\n",
              "    </tr>\n",
              "    <tr>\n",
              "      <th>4</th>\n",
              "      <td>I feel so blessed to work with the family that...</td>\n",
              "      <td>joy,happy,laugh,excited,surprise</td>\n",
              "    </tr>\n",
              "    <tr>\n",
              "      <th>...</th>\n",
              "      <td>...</td>\n",
              "      <td>...</td>\n",
              "    </tr>\n",
              "    <tr>\n",
              "      <th>7097</th>\n",
              "      <td>Why does Candice constantly pout #GBBO 💄😒</td>\n",
              "      <td>sad,disappointed,regret,depressed,lonely</td>\n",
              "    </tr>\n",
              "    <tr>\n",
              "      <th>7098</th>\n",
              "      <td>@redBus_in #unhappy with #redbus CC, when I ta...</td>\n",
              "      <td>sad,disappointed,regret,depressed,lonely</td>\n",
              "    </tr>\n",
              "    <tr>\n",
              "      <th>7099</th>\n",
              "      <td>@AceOperative789 no pull him afew weeks ago, s...</td>\n",
              "      <td>sad,disappointed,regret,depressed,lonely</td>\n",
              "    </tr>\n",
              "    <tr>\n",
              "      <th>7100</th>\n",
              "      <td>I'm buying art supplies and I'm debating how s...</td>\n",
              "      <td>sad,disappointed,regret,depressed,lonely</td>\n",
              "    </tr>\n",
              "    <tr>\n",
              "      <th>7101</th>\n",
              "      <td>@sainsburys Could you ask your Chafford Hundre...</td>\n",
              "      <td>sad,disappointed,regret,depressed,lonely</td>\n",
              "    </tr>\n",
              "  </tbody>\n",
              "</table>\n",
              "<p>7102 rows × 2 columns</p>\n",
              "</div>\n",
              "    <div class=\"colab-df-buttons\">\n",
              "\n",
              "  <div class=\"colab-df-container\">\n",
              "    <button class=\"colab-df-convert\" onclick=\"convertToInteractive('df-e7ffdfe9-fb38-4c9b-8bde-0d36e2eeae1d')\"\n",
              "            title=\"Convert this dataframe to an interactive table.\"\n",
              "            style=\"display:none;\">\n",
              "\n",
              "  <svg xmlns=\"http://www.w3.org/2000/svg\" height=\"24px\" viewBox=\"0 -960 960 960\">\n",
              "    <path d=\"M120-120v-720h720v720H120Zm60-500h600v-160H180v160Zm220 220h160v-160H400v160Zm0 220h160v-160H400v160ZM180-400h160v-160H180v160Zm440 0h160v-160H620v160ZM180-180h160v-160H180v160Zm440 0h160v-160H620v160Z\"/>\n",
              "  </svg>\n",
              "    </button>\n",
              "\n",
              "  <style>\n",
              "    .colab-df-container {\n",
              "      display:flex;\n",
              "      gap: 12px;\n",
              "    }\n",
              "\n",
              "    .colab-df-convert {\n",
              "      background-color: #E8F0FE;\n",
              "      border: none;\n",
              "      border-radius: 50%;\n",
              "      cursor: pointer;\n",
              "      display: none;\n",
              "      fill: #1967D2;\n",
              "      height: 32px;\n",
              "      padding: 0 0 0 0;\n",
              "      width: 32px;\n",
              "    }\n",
              "\n",
              "    .colab-df-convert:hover {\n",
              "      background-color: #E2EBFA;\n",
              "      box-shadow: 0px 1px 2px rgba(60, 64, 67, 0.3), 0px 1px 3px 1px rgba(60, 64, 67, 0.15);\n",
              "      fill: #174EA6;\n",
              "    }\n",
              "\n",
              "    .colab-df-buttons div {\n",
              "      margin-bottom: 4px;\n",
              "    }\n",
              "\n",
              "    [theme=dark] .colab-df-convert {\n",
              "      background-color: #3B4455;\n",
              "      fill: #D2E3FC;\n",
              "    }\n",
              "\n",
              "    [theme=dark] .colab-df-convert:hover {\n",
              "      background-color: #434B5C;\n",
              "      box-shadow: 0px 1px 3px 1px rgba(0, 0, 0, 0.15);\n",
              "      filter: drop-shadow(0px 1px 2px rgba(0, 0, 0, 0.3));\n",
              "      fill: #FFFFFF;\n",
              "    }\n",
              "  </style>\n",
              "\n",
              "    <script>\n",
              "      const buttonEl =\n",
              "        document.querySelector('#df-e7ffdfe9-fb38-4c9b-8bde-0d36e2eeae1d button.colab-df-convert');\n",
              "      buttonEl.style.display =\n",
              "        google.colab.kernel.accessAllowed ? 'block' : 'none';\n",
              "\n",
              "      async function convertToInteractive(key) {\n",
              "        const element = document.querySelector('#df-e7ffdfe9-fb38-4c9b-8bde-0d36e2eeae1d');\n",
              "        const dataTable =\n",
              "          await google.colab.kernel.invokeFunction('convertToInteractive',\n",
              "                                                    [key], {});\n",
              "        if (!dataTable) return;\n",
              "\n",
              "        const docLinkHtml = 'Like what you see? Visit the ' +\n",
              "          '<a target=\"_blank\" href=https://colab.research.google.com/notebooks/data_table.ipynb>data table notebook</a>'\n",
              "          + ' to learn more about interactive tables.';\n",
              "        element.innerHTML = '';\n",
              "        dataTable['output_type'] = 'display_data';\n",
              "        await google.colab.output.renderOutput(dataTable, element);\n",
              "        const docLink = document.createElement('div');\n",
              "        docLink.innerHTML = docLinkHtml;\n",
              "        element.appendChild(docLink);\n",
              "      }\n",
              "    </script>\n",
              "  </div>\n",
              "\n",
              "\n",
              "<div id=\"df-2eb485f7-80c7-4970-a215-0d039a3cda9d\">\n",
              "  <button class=\"colab-df-quickchart\" onclick=\"quickchart('df-2eb485f7-80c7-4970-a215-0d039a3cda9d')\"\n",
              "            title=\"Suggest charts\"\n",
              "            style=\"display:none;\">\n",
              "\n",
              "<svg xmlns=\"http://www.w3.org/2000/svg\" height=\"24px\"viewBox=\"0 0 24 24\"\n",
              "     width=\"24px\">\n",
              "    <g>\n",
              "        <path d=\"M19 3H5c-1.1 0-2 .9-2 2v14c0 1.1.9 2 2 2h14c1.1 0 2-.9 2-2V5c0-1.1-.9-2-2-2zM9 17H7v-7h2v7zm4 0h-2V7h2v10zm4 0h-2v-4h2v4z\"/>\n",
              "    </g>\n",
              "</svg>\n",
              "  </button>\n",
              "\n",
              "<style>\n",
              "  .colab-df-quickchart {\n",
              "      --bg-color: #E8F0FE;\n",
              "      --fill-color: #1967D2;\n",
              "      --hover-bg-color: #E2EBFA;\n",
              "      --hover-fill-color: #174EA6;\n",
              "      --disabled-fill-color: #AAA;\n",
              "      --disabled-bg-color: #DDD;\n",
              "  }\n",
              "\n",
              "  [theme=dark] .colab-df-quickchart {\n",
              "      --bg-color: #3B4455;\n",
              "      --fill-color: #D2E3FC;\n",
              "      --hover-bg-color: #434B5C;\n",
              "      --hover-fill-color: #FFFFFF;\n",
              "      --disabled-bg-color: #3B4455;\n",
              "      --disabled-fill-color: #666;\n",
              "  }\n",
              "\n",
              "  .colab-df-quickchart {\n",
              "    background-color: var(--bg-color);\n",
              "    border: none;\n",
              "    border-radius: 50%;\n",
              "    cursor: pointer;\n",
              "    display: none;\n",
              "    fill: var(--fill-color);\n",
              "    height: 32px;\n",
              "    padding: 0;\n",
              "    width: 32px;\n",
              "  }\n",
              "\n",
              "  .colab-df-quickchart:hover {\n",
              "    background-color: var(--hover-bg-color);\n",
              "    box-shadow: 0 1px 2px rgba(60, 64, 67, 0.3), 0 1px 3px 1px rgba(60, 64, 67, 0.15);\n",
              "    fill: var(--button-hover-fill-color);\n",
              "  }\n",
              "\n",
              "  .colab-df-quickchart-complete:disabled,\n",
              "  .colab-df-quickchart-complete:disabled:hover {\n",
              "    background-color: var(--disabled-bg-color);\n",
              "    fill: var(--disabled-fill-color);\n",
              "    box-shadow: none;\n",
              "  }\n",
              "\n",
              "  .colab-df-spinner {\n",
              "    border: 2px solid var(--fill-color);\n",
              "    border-color: transparent;\n",
              "    border-bottom-color: var(--fill-color);\n",
              "    animation:\n",
              "      spin 1s steps(1) infinite;\n",
              "  }\n",
              "\n",
              "  @keyframes spin {\n",
              "    0% {\n",
              "      border-color: transparent;\n",
              "      border-bottom-color: var(--fill-color);\n",
              "      border-left-color: var(--fill-color);\n",
              "    }\n",
              "    20% {\n",
              "      border-color: transparent;\n",
              "      border-left-color: var(--fill-color);\n",
              "      border-top-color: var(--fill-color);\n",
              "    }\n",
              "    30% {\n",
              "      border-color: transparent;\n",
              "      border-left-color: var(--fill-color);\n",
              "      border-top-color: var(--fill-color);\n",
              "      border-right-color: var(--fill-color);\n",
              "    }\n",
              "    40% {\n",
              "      border-color: transparent;\n",
              "      border-right-color: var(--fill-color);\n",
              "      border-top-color: var(--fill-color);\n",
              "    }\n",
              "    60% {\n",
              "      border-color: transparent;\n",
              "      border-right-color: var(--fill-color);\n",
              "    }\n",
              "    80% {\n",
              "      border-color: transparent;\n",
              "      border-right-color: var(--fill-color);\n",
              "      border-bottom-color: var(--fill-color);\n",
              "    }\n",
              "    90% {\n",
              "      border-color: transparent;\n",
              "      border-bottom-color: var(--fill-color);\n",
              "    }\n",
              "  }\n",
              "</style>\n",
              "\n",
              "  <script>\n",
              "    async function quickchart(key) {\n",
              "      const quickchartButtonEl =\n",
              "        document.querySelector('#' + key + ' button');\n",
              "      quickchartButtonEl.disabled = true;  // To prevent multiple clicks.\n",
              "      quickchartButtonEl.classList.add('colab-df-spinner');\n",
              "      try {\n",
              "        const charts = await google.colab.kernel.invokeFunction(\n",
              "            'suggestCharts', [key], {});\n",
              "      } catch (error) {\n",
              "        console.error('Error during call to suggestCharts:', error);\n",
              "      }\n",
              "      quickchartButtonEl.classList.remove('colab-df-spinner');\n",
              "      quickchartButtonEl.classList.add('colab-df-quickchart-complete');\n",
              "    }\n",
              "    (() => {\n",
              "      let quickchartButtonEl =\n",
              "        document.querySelector('#df-2eb485f7-80c7-4970-a215-0d039a3cda9d button');\n",
              "      quickchartButtonEl.style.display =\n",
              "        google.colab.kernel.accessAllowed ? 'block' : 'none';\n",
              "    })();\n",
              "  </script>\n",
              "</div>\n",
              "\n",
              "  <div id=\"id_72b16841-5792-4666-97c7-f45294668a78\">\n",
              "    <style>\n",
              "      .colab-df-generate {\n",
              "        background-color: #E8F0FE;\n",
              "        border: none;\n",
              "        border-radius: 50%;\n",
              "        cursor: pointer;\n",
              "        display: none;\n",
              "        fill: #1967D2;\n",
              "        height: 32px;\n",
              "        padding: 0 0 0 0;\n",
              "        width: 32px;\n",
              "      }\n",
              "\n",
              "      .colab-df-generate:hover {\n",
              "        background-color: #E2EBFA;\n",
              "        box-shadow: 0px 1px 2px rgba(60, 64, 67, 0.3), 0px 1px 3px 1px rgba(60, 64, 67, 0.15);\n",
              "        fill: #174EA6;\n",
              "      }\n",
              "\n",
              "      [theme=dark] .colab-df-generate {\n",
              "        background-color: #3B4455;\n",
              "        fill: #D2E3FC;\n",
              "      }\n",
              "\n",
              "      [theme=dark] .colab-df-generate:hover {\n",
              "        background-color: #434B5C;\n",
              "        box-shadow: 0px 1px 3px 1px rgba(0, 0, 0, 0.15);\n",
              "        filter: drop-shadow(0px 1px 2px rgba(0, 0, 0, 0.3));\n",
              "        fill: #FFFFFF;\n",
              "      }\n",
              "    </style>\n",
              "    <button class=\"colab-df-generate\" onclick=\"generateWithVariable('all_train_data')\"\n",
              "            title=\"Generate code using this dataframe.\"\n",
              "            style=\"display:none;\">\n",
              "\n",
              "  <svg xmlns=\"http://www.w3.org/2000/svg\" height=\"24px\"viewBox=\"0 0 24 24\"\n",
              "       width=\"24px\">\n",
              "    <path d=\"M7,19H8.4L18.45,9,17,7.55,7,17.6ZM5,21V16.75L18.45,3.32a2,2,0,0,1,2.83,0l1.4,1.43a1.91,1.91,0,0,1,.58,1.4,1.91,1.91,0,0,1-.58,1.4L9.25,21ZM18.45,9,17,7.55Zm-12,3A5.31,5.31,0,0,0,4.9,8.1,5.31,5.31,0,0,0,1,6.5,5.31,5.31,0,0,0,4.9,4.9,5.31,5.31,0,0,0,6.5,1,5.31,5.31,0,0,0,8.1,4.9,5.31,5.31,0,0,0,12,6.5,5.46,5.46,0,0,0,6.5,12Z\"/>\n",
              "  </svg>\n",
              "    </button>\n",
              "    <script>\n",
              "      (() => {\n",
              "      const buttonEl =\n",
              "        document.querySelector('#id_72b16841-5792-4666-97c7-f45294668a78 button.colab-df-generate');\n",
              "      buttonEl.style.display =\n",
              "        google.colab.kernel.accessAllowed ? 'block' : 'none';\n",
              "\n",
              "      buttonEl.onclick = () => {\n",
              "        google.colab.notebook.generateWithVariable('all_train_data');\n",
              "      }\n",
              "      })();\n",
              "    </script>\n",
              "  </div>\n",
              "\n",
              "    </div>\n",
              "  </div>\n"
            ]
          },
          "metadata": {},
          "execution_count": 24
        }
      ]
    },
    {
      "cell_type": "markdown",
      "source": [
        "# VECTORIZER"
      ],
      "metadata": {
        "id": "3BnH32g_jVs9"
      }
    },
    {
      "cell_type": "code",
      "source": [
        "vectorizer_train = CountVectorizer(stop_words=stop_words_english)"
      ],
      "metadata": {
        "execution": {
          "iopub.status.busy": "2024-01-04T03:34:05.094502Z",
          "iopub.execute_input": "2024-01-04T03:34:05.095040Z",
          "iopub.status.idle": "2024-01-04T03:34:05.102084Z",
          "shell.execute_reply.started": "2024-01-04T03:34:05.094980Z",
          "shell.execute_reply": "2024-01-04T03:34:05.099899Z"
        },
        "trusted": true,
        "id": "TKnW2WEkjVs9"
      },
      "execution_count": 25,
      "outputs": []
    },
    {
      "cell_type": "code",
      "source": [
        "xall = vectorizer_train.fit_transform(all_train_data[\"text\"])\n",
        "yall = all_train_data[\"label\"]"
      ],
      "metadata": {
        "execution": {
          "iopub.status.busy": "2024-01-04T03:34:05.104732Z",
          "iopub.execute_input": "2024-01-04T03:34:05.105363Z",
          "iopub.status.idle": "2024-01-04T03:34:05.336449Z",
          "shell.execute_reply.started": "2024-01-04T03:34:05.105306Z",
          "shell.execute_reply": "2024-01-04T03:34:05.335011Z"
        },
        "trusted": true,
        "id": "DiPteJ6ejVs9"
      },
      "execution_count": 26,
      "outputs": []
    },
    {
      "cell_type": "code",
      "source": [
        "xtrain,xtest,ytrain,ytest = train_test_split(xall,\n",
        "                                             yall,\n",
        "                                             test_size=0.2,\n",
        "                                             random_state=42,\n",
        "                                             shuffle=True)"
      ],
      "metadata": {
        "execution": {
          "iopub.status.busy": "2024-01-04T03:34:05.338267Z",
          "iopub.execute_input": "2024-01-04T03:34:05.338755Z",
          "iopub.status.idle": "2024-01-04T03:34:05.350694Z",
          "shell.execute_reply.started": "2024-01-04T03:34:05.338703Z",
          "shell.execute_reply": "2024-01-04T03:34:05.349228Z"
        },
        "trusted": true,
        "id": "SVqpDTOQjVs-"
      },
      "execution_count": 27,
      "outputs": []
    },
    {
      "cell_type": "code",
      "source": [
        "print(f\"X TRAIN SHAPE:\\n\\n{xtrain.shape}\")\n",
        "print(f\"Y TRAIN SHAPE:\\n\\n{ytrain.shape}\")\n",
        "print(f\"X TEST SHAPE:\\n\\n{xtest.shape}\")\n",
        "print(f\"Y TEST SHAPE:\\n\\n{ytest.shape}\")"
      ],
      "metadata": {
        "execution": {
          "iopub.status.busy": "2024-01-04T03:34:05.352678Z",
          "iopub.execute_input": "2024-01-04T03:34:05.354077Z",
          "iopub.status.idle": "2024-01-04T03:34:05.362150Z",
          "shell.execute_reply.started": "2024-01-04T03:34:05.354002Z",
          "shell.execute_reply": "2024-01-04T03:34:05.360408Z"
        },
        "trusted": true,
        "id": "UqQ7k7OIjVs-",
        "outputId": "216fafa3-f2ae-4a3d-8f3b-9db3c7eabcd2",
        "colab": {
          "base_uri": "https://localhost:8080/"
        }
      },
      "execution_count": 28,
      "outputs": [
        {
          "output_type": "stream",
          "name": "stdout",
          "text": [
            "X TRAIN SHAPE:\n",
            "\n",
            "(5681, 15735)\n",
            "Y TRAIN SHAPE:\n",
            "\n",
            "(5681,)\n",
            "X TEST SHAPE:\n",
            "\n",
            "(1421, 15735)\n",
            "Y TEST SHAPE:\n",
            "\n",
            "(1421,)\n"
          ]
        }
      ]
    },
    {
      "cell_type": "markdown",
      "source": [
        "# Vocabulary"
      ],
      "metadata": {
        "id": "ewFCCPWgjVs-"
      }
    },
    {
      "cell_type": "code",
      "source": [
        "voc = vectorizer_train.get_feature_names_out()\n",
        "print(f\"TARGET VOCABULARY:\\n\\n{voc}\")"
      ],
      "metadata": {
        "execution": {
          "iopub.status.busy": "2024-01-04T03:34:05.364121Z",
          "iopub.execute_input": "2024-01-04T03:34:05.364862Z",
          "iopub.status.idle": "2024-01-04T03:34:05.389667Z",
          "shell.execute_reply.started": "2024-01-04T03:34:05.364820Z",
          "shell.execute_reply": "2024-01-04T03:34:05.388154Z"
        },
        "trusted": true,
        "id": "MA2Jl-iQjVs-",
        "outputId": "8e7a0b37-097b-4701-bda8-b88ba92d8bfe",
        "colab": {
          "base_uri": "https://localhost:8080/"
        }
      },
      "execution_count": 29,
      "outputs": [
        {
          "output_type": "stream",
          "name": "stdout",
          "text": [
            "TARGET VOCABULARY:\n",
            "\n",
            "['00' '000' '00pm' ... 'सत' 'アニメ' '화양연화']\n"
          ]
        }
      ]
    },
    {
      "cell_type": "markdown",
      "source": [
        "# Model"
      ],
      "metadata": {
        "id": "e_4kUa68jVs_"
      }
    },
    {
      "cell_type": "code",
      "source": [
        "clf = MultinomialNB()"
      ],
      "metadata": {
        "execution": {
          "iopub.status.busy": "2024-01-04T03:34:05.391437Z",
          "iopub.execute_input": "2024-01-04T03:34:05.391833Z",
          "iopub.status.idle": "2024-01-04T03:34:05.398937Z",
          "shell.execute_reply.started": "2024-01-04T03:34:05.391793Z",
          "shell.execute_reply": "2024-01-04T03:34:05.397611Z"
        },
        "trusted": true,
        "id": "idiWY-bQjVs_"
      },
      "execution_count": 30,
      "outputs": []
    },
    {
      "cell_type": "code",
      "source": [
        "clf.fit(xtrain,ytrain)"
      ],
      "metadata": {
        "execution": {
          "iopub.status.busy": "2024-01-04T03:34:05.407720Z",
          "iopub.execute_input": "2024-01-04T03:34:05.408125Z",
          "iopub.status.idle": "2024-01-04T03:34:05.465490Z",
          "shell.execute_reply.started": "2024-01-04T03:34:05.408088Z",
          "shell.execute_reply": "2024-01-04T03:34:05.463822Z"
        },
        "trusted": true,
        "id": "4ersuFvVjVs_",
        "outputId": "b40ab141-29e4-434a-b727-c2ba695fd273",
        "colab": {
          "base_uri": "https://localhost:8080/",
          "height": 74
        }
      },
      "execution_count": 31,
      "outputs": [
        {
          "output_type": "execute_result",
          "data": {
            "text/plain": [
              "MultinomialNB()"
            ],
            "text/html": [
              "<style>#sk-container-id-1 {color: black;background-color: white;}#sk-container-id-1 pre{padding: 0;}#sk-container-id-1 div.sk-toggleable {background-color: white;}#sk-container-id-1 label.sk-toggleable__label {cursor: pointer;display: block;width: 100%;margin-bottom: 0;padding: 0.3em;box-sizing: border-box;text-align: center;}#sk-container-id-1 label.sk-toggleable__label-arrow:before {content: \"▸\";float: left;margin-right: 0.25em;color: #696969;}#sk-container-id-1 label.sk-toggleable__label-arrow:hover:before {color: black;}#sk-container-id-1 div.sk-estimator:hover label.sk-toggleable__label-arrow:before {color: black;}#sk-container-id-1 div.sk-toggleable__content {max-height: 0;max-width: 0;overflow: hidden;text-align: left;background-color: #f0f8ff;}#sk-container-id-1 div.sk-toggleable__content pre {margin: 0.2em;color: black;border-radius: 0.25em;background-color: #f0f8ff;}#sk-container-id-1 input.sk-toggleable__control:checked~div.sk-toggleable__content {max-height: 200px;max-width: 100%;overflow: auto;}#sk-container-id-1 input.sk-toggleable__control:checked~label.sk-toggleable__label-arrow:before {content: \"▾\";}#sk-container-id-1 div.sk-estimator input.sk-toggleable__control:checked~label.sk-toggleable__label {background-color: #d4ebff;}#sk-container-id-1 div.sk-label input.sk-toggleable__control:checked~label.sk-toggleable__label {background-color: #d4ebff;}#sk-container-id-1 input.sk-hidden--visually {border: 0;clip: rect(1px 1px 1px 1px);clip: rect(1px, 1px, 1px, 1px);height: 1px;margin: -1px;overflow: hidden;padding: 0;position: absolute;width: 1px;}#sk-container-id-1 div.sk-estimator {font-family: monospace;background-color: #f0f8ff;border: 1px dotted black;border-radius: 0.25em;box-sizing: border-box;margin-bottom: 0.5em;}#sk-container-id-1 div.sk-estimator:hover {background-color: #d4ebff;}#sk-container-id-1 div.sk-parallel-item::after {content: \"\";width: 100%;border-bottom: 1px solid gray;flex-grow: 1;}#sk-container-id-1 div.sk-label:hover label.sk-toggleable__label {background-color: #d4ebff;}#sk-container-id-1 div.sk-serial::before {content: \"\";position: absolute;border-left: 1px solid gray;box-sizing: border-box;top: 0;bottom: 0;left: 50%;z-index: 0;}#sk-container-id-1 div.sk-serial {display: flex;flex-direction: column;align-items: center;background-color: white;padding-right: 0.2em;padding-left: 0.2em;position: relative;}#sk-container-id-1 div.sk-item {position: relative;z-index: 1;}#sk-container-id-1 div.sk-parallel {display: flex;align-items: stretch;justify-content: center;background-color: white;position: relative;}#sk-container-id-1 div.sk-item::before, #sk-container-id-1 div.sk-parallel-item::before {content: \"\";position: absolute;border-left: 1px solid gray;box-sizing: border-box;top: 0;bottom: 0;left: 50%;z-index: -1;}#sk-container-id-1 div.sk-parallel-item {display: flex;flex-direction: column;z-index: 1;position: relative;background-color: white;}#sk-container-id-1 div.sk-parallel-item:first-child::after {align-self: flex-end;width: 50%;}#sk-container-id-1 div.sk-parallel-item:last-child::after {align-self: flex-start;width: 50%;}#sk-container-id-1 div.sk-parallel-item:only-child::after {width: 0;}#sk-container-id-1 div.sk-dashed-wrapped {border: 1px dashed gray;margin: 0 0.4em 0.5em 0.4em;box-sizing: border-box;padding-bottom: 0.4em;background-color: white;}#sk-container-id-1 div.sk-label label {font-family: monospace;font-weight: bold;display: inline-block;line-height: 1.2em;}#sk-container-id-1 div.sk-label-container {text-align: center;}#sk-container-id-1 div.sk-container {/* jupyter's `normalize.less` sets `[hidden] { display: none; }` but bootstrap.min.css set `[hidden] { display: none !important; }` so we also need the `!important` here to be able to override the default hidden behavior on the sphinx rendered scikit-learn.org. See: https://github.com/scikit-learn/scikit-learn/issues/21755 */display: inline-block !important;position: relative;}#sk-container-id-1 div.sk-text-repr-fallback {display: none;}</style><div id=\"sk-container-id-1\" class=\"sk-top-container\"><div class=\"sk-text-repr-fallback\"><pre>MultinomialNB()</pre><b>In a Jupyter environment, please rerun this cell to show the HTML representation or trust the notebook. <br />On GitHub, the HTML representation is unable to render, please try loading this page with nbviewer.org.</b></div><div class=\"sk-container\" hidden><div class=\"sk-item\"><div class=\"sk-estimator sk-toggleable\"><input class=\"sk-toggleable__control sk-hidden--visually\" id=\"sk-estimator-id-1\" type=\"checkbox\" checked><label for=\"sk-estimator-id-1\" class=\"sk-toggleable__label sk-toggleable__label-arrow\">MultinomialNB</label><div class=\"sk-toggleable__content\"><pre>MultinomialNB()</pre></div></div></div></div></div>"
            ]
          },
          "metadata": {},
          "execution_count": 31
        }
      ]
    },
    {
      "cell_type": "code",
      "source": [
        "ypred = clf.predict(xtest)"
      ],
      "metadata": {
        "execution": {
          "iopub.status.busy": "2024-01-04T03:34:05.467888Z",
          "iopub.execute_input": "2024-01-04T03:34:05.468496Z",
          "iopub.status.idle": "2024-01-04T03:34:05.476254Z",
          "shell.execute_reply.started": "2024-01-04T03:34:05.468440Z",
          "shell.execute_reply": "2024-01-04T03:34:05.474729Z"
        },
        "trusted": true,
        "id": "0eXbI4TsjVtG"
      },
      "execution_count": 32,
      "outputs": []
    },
    {
      "cell_type": "code",
      "source": [
        "print(f\"ACCURACY SCORE: {accuracy_score(ytest,ypred)}\")"
      ],
      "metadata": {
        "execution": {
          "iopub.status.busy": "2024-01-04T03:34:05.478235Z",
          "iopub.execute_input": "2024-01-04T03:34:05.478675Z",
          "iopub.status.idle": "2024-01-04T03:34:05.493774Z",
          "shell.execute_reply.started": "2024-01-04T03:34:05.478621Z",
          "shell.execute_reply": "2024-01-04T03:34:05.492452Z"
        },
        "trusted": true,
        "id": "8HSN33_tjVtG",
        "outputId": "b17c7830-c803-41bd-a92d-e0a41299516d",
        "colab": {
          "base_uri": "https://localhost:8080/"
        }
      },
      "execution_count": 33,
      "outputs": [
        {
          "output_type": "stream",
          "name": "stdout",
          "text": [
            "ACCURACY SCORE: 0.8395496129486277\n"
          ]
        }
      ]
    },
    {
      "cell_type": "code",
      "source": [
        "print(f\"MODEL CLASSES:\\n\\n{clf.classes_}\")"
      ],
      "metadata": {
        "execution": {
          "iopub.status.busy": "2024-01-04T03:34:05.495406Z",
          "iopub.execute_input": "2024-01-04T03:34:05.495757Z",
          "iopub.status.idle": "2024-01-04T03:34:05.503694Z",
          "shell.execute_reply.started": "2024-01-04T03:34:05.495723Z",
          "shell.execute_reply": "2024-01-04T03:34:05.502373Z"
        },
        "trusted": true,
        "id": "jH0z9AEljVtH",
        "outputId": "ffc982fa-1612-4d89-cd5f-1036c9503b59",
        "colab": {
          "base_uri": "https://localhost:8080/"
        }
      },
      "execution_count": 34,
      "outputs": [
        {
          "output_type": "stream",
          "name": "stdout",
          "text": [
            "MODEL CLASSES:\n",
            "\n",
            "['afraid,scared,fear,terrified,nervous'\n",
            " 'angry,frustrated,annoyed,irritated,mad'\n",
            " 'joy,happy,laugh,excited,surprise'\n",
            " 'sad,disappointed,regret,depressed,lonely']\n"
          ]
        }
      ]
    },
    {
      "cell_type": "code",
      "source": [
        "conf_matrix = confusion_matrix(ytest,ypred)"
      ],
      "metadata": {
        "execution": {
          "iopub.status.busy": "2024-01-04T03:34:05.505486Z",
          "iopub.execute_input": "2024-01-04T03:34:05.505865Z",
          "iopub.status.idle": "2024-01-04T03:34:05.523408Z",
          "shell.execute_reply.started": "2024-01-04T03:34:05.505829Z",
          "shell.execute_reply": "2024-01-04T03:34:05.521754Z"
        },
        "trusted": true,
        "id": "_cipcv0FjVtH"
      },
      "execution_count": 35,
      "outputs": []
    },
    {
      "cell_type": "code",
      "source": [
        "plt.style.use(\"dark_background\")\n",
        "plt.figure(figsize=(15,8))\n",
        "sns.heatmap(conf_matrix,\n",
        "           annot=True,\n",
        "           cmap=\"hot\",\n",
        "           xticklabels=emotions_categories.values(),\n",
        "           yticklabels=emotions_categories.values())\n",
        "plt.xlabel(\"PREDICTION\")\n",
        "plt.ylabel(\"ACTUAL\")\n",
        "plt.show()"
      ],
      "metadata": {
        "execution": {
          "iopub.status.busy": "2024-01-04T03:34:05.525777Z",
          "iopub.execute_input": "2024-01-04T03:34:05.526737Z",
          "iopub.status.idle": "2024-01-04T03:34:06.105931Z",
          "shell.execute_reply.started": "2024-01-04T03:34:05.526679Z",
          "shell.execute_reply": "2024-01-04T03:34:06.102217Z"
        },
        "trusted": true,
        "id": "sj7VCep6jVtH",
        "outputId": "415224be-468d-41c7-e5a7-7f801367c5bd",
        "colab": {
          "base_uri": "https://localhost:8080/",
          "height": 925
        }
      },
      "execution_count": 36,
      "outputs": [
        {
          "output_type": "display_data",
          "data": {
            "text/plain": [
              "<Figure size 1500x800 with 2 Axes>"
            ],
            "image/png": "[encoded data removed]"
          },
          "metadata": {}
        }
      ]
    },
    {
      "cell_type": "markdown",
      "source": [
        "# Test Input"
      ],
      "metadata": {
        "id": "a5RUx06ZjVtI"
      }
    },
    {
      "cell_type": "code",
      "source": [
        "import nltk\n",
        "nltk.download('punkt')"
      ],
      "metadata": {
        "colab": {
          "base_uri": "https://localhost:8080/"
        },
        "id": "K5zix0Utnj_z",
        "outputId": "dda42753-f104-4505-f75c-b5f7a680e3a7"
      },
      "execution_count": 39,
      "outputs": [
        {
          "output_type": "stream",
          "name": "stderr",
          "text": [
            "[nltk_data] Downloading package punkt to /root/nltk_data...\n",
            "[nltk_data]   Unzipping tokenizers/punkt.zip.\n"
          ]
        },
        {
          "output_type": "execute_result",
          "data": {
            "text/plain": [
              "True"
            ]
          },
          "metadata": {},
          "execution_count": 39
        }
      ]
    },
    {
      "cell_type": "code",
      "source": [
        "test_sentence = \"I don't know what's going on in this world, but all you know is that connection will bring freedom. Although we live in an unknown world, the existence of a woman who burns heaven is the cause of all beauty.\""
      ],
      "metadata": {
        "execution": {
          "iopub.status.busy": "2024-01-04T03:34:06.107782Z",
          "iopub.execute_input": "2024-01-04T03:34:06.108249Z",
          "iopub.status.idle": "2024-01-04T03:34:06.113916Z",
          "shell.execute_reply.started": "2024-01-04T03:34:06.108206Z",
          "shell.execute_reply": "2024-01-04T03:34:06.112610Z"
        },
        "trusted": true,
        "id": "hWVGK7-RjVtI"
      },
      "execution_count": 40,
      "outputs": []
    },
    {
      "cell_type": "code",
      "source": [
        "words_of_sentence = nltk.word_tokenize(test_sentence)"
      ],
      "metadata": {
        "execution": {
          "iopub.status.busy": "2024-01-04T03:34:06.116086Z",
          "iopub.execute_input": "2024-01-04T03:34:06.116489Z",
          "iopub.status.idle": "2024-01-04T03:34:06.146535Z",
          "shell.execute_reply.started": "2024-01-04T03:34:06.116451Z",
          "shell.execute_reply": "2024-01-04T03:34:06.145090Z"
        },
        "trusted": true,
        "id": "kKN-nGadjVtI"
      },
      "execution_count": 41,
      "outputs": []
    },
    {
      "cell_type": "code",
      "source": [
        "print(f\"WORDS:\\n\\n{words_of_sentence}\")"
      ],
      "metadata": {
        "execution": {
          "iopub.status.busy": "2024-01-04T03:34:06.148300Z",
          "iopub.execute_input": "2024-01-04T03:34:06.149221Z",
          "iopub.status.idle": "2024-01-04T03:34:06.155665Z",
          "shell.execute_reply.started": "2024-01-04T03:34:06.149176Z",
          "shell.execute_reply": "2024-01-04T03:34:06.154733Z"
        },
        "trusted": true,
        "id": "d4jLFJMGjVtI",
        "outputId": "5475dd52-f073-4e42-eae2-25a96b93e8ed",
        "colab": {
          "base_uri": "https://localhost:8080/"
        }
      },
      "execution_count": 42,
      "outputs": [
        {
          "output_type": "stream",
          "name": "stdout",
          "text": [
            "WORDS:\n",
            "\n",
            "['I', 'do', \"n't\", 'know', 'what', \"'s\", 'going', 'on', 'in', 'this', 'world', ',', 'but', 'all', 'you', 'know', 'is', 'that', 'connection', 'will', 'bring', 'freedom', '.', 'Although', 'we', 'live', 'in', 'an', 'unknown', 'world', ',', 'the', 'existence', 'of', 'a', 'woman', 'who', 'burns', 'heaven', 'is', 'the', 'cause', 'of', 'all', 'beauty', '.']\n"
          ]
        }
      ]
    },
    {
      "cell_type": "code",
      "source": [
        "words_of_sentence = [w_ for w_ in words_of_sentence if w_ not in stop_words_english]"
      ],
      "metadata": {
        "execution": {
          "iopub.status.busy": "2024-01-04T03:34:06.156820Z",
          "iopub.execute_input": "2024-01-04T03:34:06.157225Z",
          "iopub.status.idle": "2024-01-04T03:34:06.167430Z",
          "shell.execute_reply.started": "2024-01-04T03:34:06.157187Z",
          "shell.execute_reply": "2024-01-04T03:34:06.165899Z"
        },
        "trusted": true,
        "id": "FauszSSIjVtJ"
      },
      "execution_count": 43,
      "outputs": []
    },
    {
      "cell_type": "code",
      "source": [
        "print(f\"WORDS WITHOUT STOP WORDS:\\n\\n{words_of_sentence}\")"
      ],
      "metadata": {
        "execution": {
          "iopub.status.busy": "2024-01-04T03:34:06.168939Z",
          "iopub.execute_input": "2024-01-04T03:34:06.169349Z",
          "iopub.status.idle": "2024-01-04T03:34:06.180735Z",
          "shell.execute_reply.started": "2024-01-04T03:34:06.169311Z",
          "shell.execute_reply": "2024-01-04T03:34:06.179798Z"
        },
        "trusted": true,
        "id": "-g_0YQzsjVtJ",
        "outputId": "f3e6b49f-0cce-4eb8-eaf2-66000f570656",
        "colab": {
          "base_uri": "https://localhost:8080/"
        }
      },
      "execution_count": 44,
      "outputs": [
        {
          "output_type": "stream",
          "name": "stdout",
          "text": [
            "WORDS WITHOUT STOP WORDS:\n",
            "\n",
            "['I', \"n't\", 'know', \"'s\", 'going', 'world', ',', 'know', 'connection', 'bring', 'freedom', '.', 'Although', 'live', 'unknown', 'world', ',', 'existence', 'woman', 'burns', 'heaven', 'cause', 'beauty', '.']\n"
          ]
        }
      ]
    },
    {
      "cell_type": "code",
      "source": [
        "transform_test = vectorizer_train.transform(words_of_sentence)"
      ],
      "metadata": {
        "execution": {
          "iopub.status.busy": "2024-01-04T03:34:06.182071Z",
          "iopub.execute_input": "2024-01-04T03:34:06.182458Z",
          "iopub.status.idle": "2024-01-04T03:34:06.194018Z",
          "shell.execute_reply.started": "2024-01-04T03:34:06.182420Z",
          "shell.execute_reply": "2024-01-04T03:34:06.192275Z"
        },
        "trusted": true,
        "id": "lZWxLdmQjVtJ"
      },
      "execution_count": 45,
      "outputs": []
    },
    {
      "cell_type": "code",
      "source": [
        "pred_test = clf.predict(transform_test)"
      ],
      "metadata": {
        "execution": {
          "iopub.status.busy": "2024-01-04T03:34:06.195435Z",
          "iopub.execute_input": "2024-01-04T03:34:06.195819Z",
          "iopub.status.idle": "2024-01-04T03:34:06.207320Z",
          "shell.execute_reply.started": "2024-01-04T03:34:06.195782Z",
          "shell.execute_reply": "2024-01-04T03:34:06.205615Z"
        },
        "trusted": true,
        "id": "osFo4LvajVtJ"
      },
      "execution_count": 46,
      "outputs": []
    },
    {
      "cell_type": "code",
      "source": [
        "print(f\"PREDICTION:\\n\\n{pred_test[0]}\")"
      ],
      "metadata": {
        "execution": {
          "iopub.status.busy": "2024-01-04T03:34:06.209999Z",
          "iopub.execute_input": "2024-01-04T03:34:06.210565Z",
          "iopub.status.idle": "2024-01-04T03:34:06.220847Z",
          "shell.execute_reply.started": "2024-01-04T03:34:06.210513Z",
          "shell.execute_reply": "2024-01-04T03:34:06.219112Z"
        },
        "trusted": true,
        "id": "z61tEMjpjVtJ",
        "outputId": "2d339b9b-c2a9-472e-9a5c-0a92ee712e2e",
        "colab": {
          "base_uri": "https://localhost:8080/"
        }
      },
      "execution_count": 47,
      "outputs": [
        {
          "output_type": "stream",
          "name": "stdout",
          "text": [
            "PREDICTION:\n",
            "\n",
            "afraid,scared,fear,terrified,nervous\n"
          ]
        }
      ]
    },
    {
      "cell_type": "markdown",
      "source": [
        "# Single Text Prediction"
      ],
      "metadata": {
        "id": "4rwTNNR5jVtK"
      }
    },
    {
      "cell_type": "code",
      "source": [
        "single_text = \"When I look at your eyes, I see stars\"\n",
        "transform_single = vectorizer_train.transform([single_text])"
      ],
      "metadata": {
        "execution": {
          "iopub.status.busy": "2024-01-04T03:34:06.222866Z",
          "iopub.execute_input": "2024-01-04T03:34:06.223389Z",
          "iopub.status.idle": "2024-01-04T03:34:06.233308Z",
          "shell.execute_reply.started": "2024-01-04T03:34:06.223328Z",
          "shell.execute_reply": "2024-01-04T03:34:06.231544Z"
        },
        "trusted": true,
        "id": "OPcKZZb6jVtK"
      },
      "execution_count": 48,
      "outputs": []
    },
    {
      "cell_type": "code",
      "source": [
        "print(f\"SINGLE VECTORIZING OUTPUT:\\n\\n{transform_single.data}\")"
      ],
      "metadata": {
        "execution": {
          "iopub.status.busy": "2024-01-04T03:34:06.235686Z",
          "iopub.execute_input": "2024-01-04T03:34:06.236541Z",
          "iopub.status.idle": "2024-01-04T03:34:06.248050Z",
          "shell.execute_reply.started": "2024-01-04T03:34:06.236483Z",
          "shell.execute_reply": "2024-01-04T03:34:06.246674Z"
        },
        "trusted": true,
        "id": "ALg3RlXHjVtK",
        "outputId": "ce12c18a-1b4c-4abc-f04f-b31516bc07e8",
        "colab": {
          "base_uri": "https://localhost:8080/"
        }
      },
      "execution_count": 49,
      "outputs": [
        {
          "output_type": "stream",
          "name": "stdout",
          "text": [
            "SINGLE VECTORIZING OUTPUT:\n",
            "\n",
            "[1 1 1 1]\n"
          ]
        }
      ]
    },
    {
      "cell_type": "code",
      "source": [
        "pred_test = clf.predict(transform_single)"
      ],
      "metadata": {
        "execution": {
          "iopub.status.busy": "2024-01-04T03:34:06.249958Z",
          "iopub.execute_input": "2024-01-04T03:34:06.251641Z",
          "iopub.status.idle": "2024-01-04T03:34:06.258926Z",
          "shell.execute_reply.started": "2024-01-04T03:34:06.251587Z",
          "shell.execute_reply": "2024-01-04T03:34:06.257359Z"
        },
        "trusted": true,
        "id": "1Y7Qw-XgjVtL"
      },
      "execution_count": 50,
      "outputs": []
    },
    {
      "cell_type": "code",
      "source": [
        "print(f\"PREDICTION:\\n\\n{pred_test[0]}\")"
      ],
      "metadata": {
        "execution": {
          "iopub.status.busy": "2024-01-04T03:34:06.260593Z",
          "iopub.execute_input": "2024-01-04T03:34:06.262108Z",
          "iopub.status.idle": "2024-01-04T03:34:06.272869Z",
          "shell.execute_reply.started": "2024-01-04T03:34:06.262018Z",
          "shell.execute_reply": "2024-01-04T03:34:06.271054Z"
        },
        "trusted": true,
        "id": "Ho1OlpDZjVtL",
        "outputId": "b506cf4f-2f21-43de-e80f-6ec275abb376",
        "colab": {
          "base_uri": "https://localhost:8080/"
        }
      },
      "execution_count": 51,
      "outputs": [
        {
          "output_type": "stream",
          "name": "stdout",
          "text": [
            "PREDICTION:\n",
            "\n",
            "sad,disappointed,regret,depressed,lonely\n"
          ]
        }
      ]
    },
    {
      "cell_type": "code",
      "source": [
        "love_text = \"I LOVE YOU\"\n",
        "transform_love = vectorizer_train.transform([love_text])"
      ],
      "metadata": {
        "execution": {
          "iopub.status.busy": "2024-01-04T03:34:06.274928Z",
          "iopub.execute_input": "2024-01-04T03:34:06.276281Z",
          "iopub.status.idle": "2024-01-04T03:34:06.285902Z",
          "shell.execute_reply.started": "2024-01-04T03:34:06.276214Z",
          "shell.execute_reply": "2024-01-04T03:34:06.284442Z"
        },
        "trusted": true,
        "id": "g7I_0af9jVtL"
      },
      "execution_count": 52,
      "outputs": []
    },
    {
      "cell_type": "code",
      "source": [
        "pred_love = clf.predict(transform_love)"
      ],
      "metadata": {
        "execution": {
          "iopub.status.busy": "2024-01-04T03:34:06.288079Z",
          "iopub.execute_input": "2024-01-04T03:34:06.288941Z",
          "iopub.status.idle": "2024-01-04T03:34:06.297529Z",
          "shell.execute_reply.started": "2024-01-04T03:34:06.288888Z",
          "shell.execute_reply": "2024-01-04T03:34:06.296090Z"
        },
        "trusted": true,
        "id": "3pajrKGUjVtL"
      },
      "execution_count": 53,
      "outputs": []
    },
    {
      "cell_type": "code",
      "source": [
        "print(f\"PREDICTION:\\n\\n{pred_love[0]}\")"
      ],
      "metadata": {
        "execution": {
          "iopub.status.busy": "2024-01-04T03:34:06.299586Z",
          "iopub.execute_input": "2024-01-04T03:34:06.300889Z",
          "iopub.status.idle": "2024-01-04T03:34:06.309803Z",
          "shell.execute_reply.started": "2024-01-04T03:34:06.300823Z",
          "shell.execute_reply": "2024-01-04T03:34:06.308429Z"
        },
        "trusted": true,
        "id": "jjrdKJjojVtM",
        "outputId": "30a22fa3-beb8-4744-cf59-d5cc8808e4fc",
        "colab": {
          "base_uri": "https://localhost:8080/"
        }
      },
      "execution_count": 54,
      "outputs": [
        {
          "output_type": "stream",
          "name": "stdout",
          "text": [
            "PREDICTION:\n",
            "\n",
            "joy,happy,laugh,excited,surprise\n"
          ]
        }
      ]
    },
    {
      "cell_type": "code",
      "source": [
        "additional_speech = \"When I see my wife's mother, suddenly I feel afraid of her thought of not let her go with me\"\n",
        "transform_additional = vectorizer_train.transform([additional_speech])"
      ],
      "metadata": {
        "execution": {
          "iopub.status.busy": "2024-01-04T03:34:06.312211Z",
          "iopub.execute_input": "2024-01-04T03:34:06.313984Z",
          "iopub.status.idle": "2024-01-04T03:34:06.322461Z",
          "shell.execute_reply.started": "2024-01-04T03:34:06.313928Z",
          "shell.execute_reply": "2024-01-04T03:34:06.320564Z"
        },
        "trusted": true,
        "id": "8KmxPptIjVtM"
      },
      "execution_count": 55,
      "outputs": []
    },
    {
      "cell_type": "code",
      "source": [
        "pred_additional = clf.predict(transform_additional)"
      ],
      "metadata": {
        "execution": {
          "iopub.status.busy": "2024-01-04T03:34:06.325024Z",
          "iopub.execute_input": "2024-01-04T03:34:06.326479Z",
          "iopub.status.idle": "2024-01-04T03:34:06.334344Z",
          "shell.execute_reply.started": "2024-01-04T03:34:06.326410Z",
          "shell.execute_reply": "2024-01-04T03:34:06.332733Z"
        },
        "trusted": true,
        "id": "1go43DidjVtM"
      },
      "execution_count": 56,
      "outputs": []
    },
    {
      "cell_type": "code",
      "source": [
        "print(f\"PREDICTION:\\n\\n{pred_additional[0]}\")"
      ],
      "metadata": {
        "execution": {
          "iopub.status.busy": "2024-01-04T03:34:06.336318Z",
          "iopub.execute_input": "2024-01-04T03:34:06.336811Z",
          "iopub.status.idle": "2024-01-04T03:34:06.348298Z",
          "shell.execute_reply.started": "2024-01-04T03:34:06.336761Z",
          "shell.execute_reply": "2024-01-04T03:34:06.346645Z"
        },
        "trusted": true,
        "id": "xvyNCu9yjVtM",
        "outputId": "89ec75e0-eb64-4559-d5ec-cee3f2f373a5",
        "colab": {
          "base_uri": "https://localhost:8080/"
        }
      },
      "execution_count": 57,
      "outputs": [
        {
          "output_type": "stream",
          "name": "stdout",
          "text": [
            "PREDICTION:\n",
            "\n",
            "afraid,scared,fear,terrified,nervous\n"
          ]
        }
      ]
    },
    {
      "cell_type": "code",
      "source": [
        "text_II = \"We will go to another city and create a new life in there\"\n",
        "transform_text_II = vectorizer_train.transform([text_II])\n",
        "pred_text_II = clf.predict(transform_text_II)"
      ],
      "metadata": {
        "execution": {
          "iopub.status.busy": "2024-01-04T03:34:06.350506Z",
          "iopub.execute_input": "2024-01-04T03:34:06.351888Z",
          "iopub.status.idle": "2024-01-04T03:34:06.359573Z",
          "shell.execute_reply.started": "2024-01-04T03:34:06.351830Z",
          "shell.execute_reply": "2024-01-04T03:34:06.358149Z"
        },
        "trusted": true,
        "id": "WqfCqKjijVtN"
      },
      "execution_count": 58,
      "outputs": []
    },
    {
      "cell_type": "code",
      "source": [
        "print(f\"PREDICTION:\\n\\n{pred_text_II[0]}\")"
      ],
      "metadata": {
        "execution": {
          "iopub.status.busy": "2024-01-04T03:34:06.361628Z",
          "iopub.execute_input": "2024-01-04T03:34:06.362538Z",
          "iopub.status.idle": "2024-01-04T03:34:06.372737Z",
          "shell.execute_reply.started": "2024-01-04T03:34:06.362470Z",
          "shell.execute_reply": "2024-01-04T03:34:06.371324Z"
        },
        "trusted": true,
        "id": "59VAk1eWjVtN",
        "outputId": "43a575fd-f297-488c-eeb4-162190baef40",
        "colab": {
          "base_uri": "https://localhost:8080/"
        }
      },
      "execution_count": 59,
      "outputs": [
        {
          "output_type": "stream",
          "name": "stdout",
          "text": [
            "PREDICTION:\n",
            "\n",
            "afraid,scared,fear,terrified,nervous\n"
          ]
        }
      ]
    },
    {
      "cell_type": "code",
      "source": [],
      "metadata": {
        "id": "sXFww_fejVtO"
      },
      "execution_count": null,
      "outputs": []
    }
  ]
}